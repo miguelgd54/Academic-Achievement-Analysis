{
 "cells": [
  {
   "cell_type": "markdown",
   "metadata": {},
   "source": [
    "# Academic Achievement Survey Results"
   ]
  },
  {
   "cell_type": "markdown",
   "metadata": {},
   "source": [
    "#### We define significance and set the p-value significance threshold at < .05"
   ]
  },
  {
   "cell_type": "code",
   "execution_count": 1,
   "metadata": {},
   "outputs": [],
   "source": [
    "import matplotlib.pyplot as plt \n",
    "import numpy as np\n",
    "import pandas as pd\n",
    "import patsy\n",
    "import statsmodels.api as sm\n",
    "import scipy.stats as stats\n",
    "from scipy.stats import ttest_ind, chisquare, normaltest"
   ]
  },
  {
   "cell_type": "code",
   "execution_count": 2,
   "metadata": {},
   "outputs": [],
   "source": [
    "df = pd.read_csv('a3.csv')\n",
    "df.columns = ['Time', 'Year', 'GPA', 'Major','Gender', 'Race', 'Q1','Q2','Q3','Q4','Q5','Q6','Q7']\n",
    "df.drop(columns = ['Time','Q7'],inplace = True)"
   ]
  },
  {
   "cell_type": "code",
   "execution_count": 3,
   "metadata": {},
   "outputs": [],
   "source": [
    "def standardize_year(year):\n",
    "    if '1st' in year:\n",
    "        return 1\n",
    "    if '2nd' in year:\n",
    "        return 2\n",
    "    if '3rd' in year:\n",
    "        return 3\n",
    "    if '4th' in year:\n",
    "        return 4"
   ]
  },
  {
   "cell_type": "code",
   "execution_count": 4,
   "metadata": {},
   "outputs": [],
   "source": [
    "def standardize_response(response):\n",
    "    if 'Strongly Disagree' in response:\n",
    "        return -2\n",
    "    if 'Strongly Agree' in response:\n",
    "        return 2\n",
    "    if 'Disagree' in response:\n",
    "        return -1\n",
    "    if 'Neutral' in response:\n",
    "        return 0\n",
    "    if 'Agree' in response:\n",
    "        return 1"
   ]
  },
  {
   "cell_type": "code",
   "execution_count": 5,
   "metadata": {},
   "outputs": [],
   "source": [
    "def standardize_gpa(gpa):\n",
    "    mean = df.drop([49,35]).mean()\n",
    "    mean = round(mean,1)[0]\n",
    "    if '8.0' in str(gpa):\n",
    "        return 3.0\n",
    "    elif '60' in str(gpa):\n",
    "        return mean\n",
    "    else:\n",
    "        return gpa"
   ]
  },
  {
   "cell_type": "code",
   "execution_count": 6,
   "metadata": {},
   "outputs": [],
   "source": [
    "def standardize_gpa_hl(gpa):\n",
    "    if gpa >= 3.5:\n",
    "        return 'HIGH'\n",
    "    else:\n",
    "        return 'LOW'"
   ]
  },
  {
   "cell_type": "code",
   "execution_count": 7,
   "metadata": {},
   "outputs": [],
   "source": [
    "def standardize_major_stem(string):\n",
    "    if 'COGSCI' in string:\n",
    "        return 'STEM'\n",
    "    if 'COMM' in string:\n",
    "        return 'NONSTEM'\n",
    "    if 'ECON' in string:\n",
    "        return 'NONSTEM'\n",
    "    if 'ENGINEERING' in string:\n",
    "        return 'STEM'\n",
    "    if 'BIO' in string:\n",
    "        return 'STEM'\n",
    "    if 'COMPSCI' in string:\n",
    "        return 'STEM'\n",
    "    if 'PHYSIOLOGY' in string:\n",
    "        return 'STEM'\n",
    "    if 'HEALTH' in string:\n",
    "        return 'STEM'\n",
    "    if 'MATH' in string:\n",
    "        return 'STEM'\n",
    "    if 'SOCI' in string:\n",
    "        return 'NONSTEM'\n",
    "    if 'CHEM' in string:\n",
    "        return 'STEM'\n",
    "    if 'BUSINESS' in string:\n",
    "        return 'NONSTEM'\n",
    "    if 'PSYCH' in string:\n",
    "        return 'NONSTEM'\n",
    "    if 'ANTH' in string:\n",
    "        return 'NONSTEM'\n",
    "    if 'JAPANESE' in string:\n",
    "        return 'NONSTEM'\n",
    "    if 'POLISCI' in string:\n",
    "        return 'NONSTEM'"
   ]
  },
  {
   "cell_type": "code",
   "execution_count": 8,
   "metadata": {},
   "outputs": [],
   "source": [
    "def standardize_major(string):\n",
    "    string = string.lower()\n",
    "    string = string.strip() \n",
    "    if \"cog\" in string:\n",
    "        output = \"COGSCI\"\n",
    "    elif \"computer\" in string:\n",
    "        output = \"COMPSCI\"\n",
    "    elif \"econ\" in string:\n",
    "        output = \"ECON\"\n",
    "    elif \"cs\" in string:\n",
    "        output = 'COMPSCI'\n",
    "    elif \"math\" in string:\n",
    "        output = \"MATH\"\n",
    "    elif \"engineering\" in string:\n",
    "        output = \"ENGINEERING\"\n",
    "    elif \"bio\" in string:\n",
    "        output = \"BIO\"\n",
    "    elif \"chem\" in string:\n",
    "        output = \"CHEM\"\n",
    "    elif 'undeclared' in string:\n",
    "        output = 'UNDECLARED'\n",
    "    elif 'no' in string:\n",
    "        output = 'UNDECLARED'\n",
    "    elif 'anthropological' in string:\n",
    "        output = 'ANTH'\n",
    "    elif 'physiology' in string:\n",
    "        output = 'PHYSIOLOGY'\n",
    "    elif 'business' in string:\n",
    "        output = 'BUSINESS'\n",
    "    elif 'comunication' in string:\n",
    "        output = 'COMM'\n",
    "    elif 'comm' in string:\n",
    "        output = 'COMM'\n",
    "    elif 'health' in string:\n",
    "        output = 'HEALTH'\n",
    "    elif 'glbh' in string:\n",
    "        output = 'HEALTH'\n",
    "    elif 'japanese' in string:\n",
    "        output = 'JAPANESE'\n",
    "    elif 'political' in string:\n",
    "        output = 'POLISCI'\n",
    "    elif 'sociology' in string:\n",
    "        output = 'SOCI'\n",
    "    elif 'psychology' in string:\n",
    "        output = 'PSYCH'\n",
    "    else:\n",
    "        output = string\n",
    "    return output"
   ]
  },
  {
   "cell_type": "code",
   "execution_count": 9,
   "metadata": {},
   "outputs": [],
   "source": [
    "df['GPA'] = df['GPA'].round(1)\n",
    "df['GPA'] = df['GPA'].apply(standardize_gpa)\n",
    "df['Year'] = df['Year'].apply(standardize_year)\n",
    "df['Major'] = df['Major'].apply(standardize_major)\n",
    "df['Q1'] = df['Q1'].apply(standardize_response)\n",
    "df['Q2'] = df['Q2'].apply(standardize_response)\n",
    "df['Q3'] = df['Q3'].apply(standardize_response)\n",
    "df['Q4'] = df['Q4'].apply(standardize_response)\n",
    "df['Q5'] = df['Q5'].apply(standardize_response)"
   ]
  },
  {
   "cell_type": "code",
   "execution_count": 10,
   "metadata": {},
   "outputs": [],
   "source": [
    "df_gender = df.drop([24,39])\n",
    "df_gpa = df.dropna()\n",
    "df_gpa['GPA'] = df_gpa['GPA'].apply(standardize_gpa_hl)\n",
    "df_stem = df.drop([7,40])\n",
    "df_stem['Major'] = df_stem['Major'].apply(standardize_major_stem)\n",
    "df_all = df.drop([7,40,24,39])\n",
    "df_all['Major'] = df_all['Major'].apply(standardize_major_stem)\n",
    "df_all['GPA'] = df_all['GPA'].apply(standardize_gpa_hl)"
   ]
  },
  {
   "cell_type": "code",
   "execution_count": 11,
   "metadata": {},
   "outputs": [
    {
     "data": {
      "image/png": "[encoded data removed]",
      "text/plain": [
       "<Figure size 432x288 with 1 Axes>"
      ]
     },
     "metadata": {
      "needs_background": "light"
     },
     "output_type": "display_data"
    }
   ],
   "source": [
    "df['Major'].value_counts().plot(kind='bar')\n",
    "plt.ylabel('Person Count')\n",
    "plt.show()"
   ]
  },
  {
   "cell_type": "code",
   "execution_count": 12,
   "metadata": {},
   "outputs": [
    {
     "data": {
      "image/png": "[encoded data removed]",
      "text/plain": [
       "<Figure size 432x288 with 1 Axes>"
      ]
     },
     "metadata": {
      "needs_background": "light"
     },
     "output_type": "display_data"
    }
   ],
   "source": [
    "df['GPA'].value_counts().plot(kind='bar')\n",
    "plt.ylabel('Person Count')\n",
    "plt.show()"
   ]
  },
  {
   "cell_type": "code",
   "execution_count": 13,
   "metadata": {},
   "outputs": [
    {
     "data": {
      "image/png": "[encoded data removed]",
      "text/plain": [
       "<Figure size 432x288 with 1 Axes>"
      ]
     },
     "metadata": {
      "needs_background": "light"
     },
     "output_type": "display_data"
    }
   ],
   "source": [
    "df['Gender'].value_counts().plot(kind='bar')\n",
    "plt.ylabel('Person Count')\n",
    "plt.show()"
   ]
  },
  {
   "cell_type": "code",
   "execution_count": 14,
   "metadata": {},
   "outputs": [
    {
     "data": {
      "image/png": "[encoded data removed]",
      "text/plain": [
       "<Figure size 432x288 with 1 Axes>"
      ]
     },
     "metadata": {
      "needs_background": "light"
     },
     "output_type": "display_data"
    }
   ],
   "source": [
    "df_stem['Major'].value_counts().plot(kind='bar')\n",
    "plt.ylabel('PersonCount')\n",
    "plt.show()"
   ]
  },
  {
   "cell_type": "code",
   "execution_count": 15,
   "metadata": {},
   "outputs": [
    {
     "data": {
      "image/png": "[encoded data removed]",
      "text/plain": [
       "<Figure size 432x288 with 1 Axes>"
      ]
     },
     "metadata": {
      "needs_background": "light"
     },
     "output_type": "display_data"
    }
   ],
   "source": [
    "df_gpa['GPA'].value_counts().plot(kind='bar')\n",
    "plt.ylabel('Person Count')\n",
    "plt.show()"
   ]
  },
  {
   "cell_type": "code",
   "execution_count": 16,
   "metadata": {},
   "outputs": [
    {
     "name": "stdout",
     "output_type": "stream",
     "text": [
      "Median GPA is:  3.5\n",
      "Average GPA is:  3.457692307692308\n"
     ]
    }
   ],
   "source": [
    "print('Median GPA is: ',df['GPA'].median())\n",
    "print('Average GPA is: ',df['GPA'].mean())"
   ]
  },
  {
   "cell_type": "code",
   "execution_count": 17,
   "metadata": {},
   "outputs": [
    {
     "name": "stdout",
     "output_type": "stream",
     "text": [
      "STEM average GPA:  3.4566666666666666\n",
      "NON-STEM average GPA:  3.5050000000000003\n"
     ]
    }
   ],
   "source": [
    "print('STEM average GPA: ',df_stem[df_stem['Major'] == 'STEM'].GPA.mean())\n",
    "print('NON-STEM average GPA: ',df_stem[df_stem['Major'] == 'NONSTEM'].GPA.mean())"
   ]
  },
  {
   "cell_type": "markdown",
   "metadata": {},
   "source": [
    "## Q1: \"It is more important to spend more time focusing on attaining a High-Grade Point Average than focusing on building relationships\""
   ]
  },
  {
   "cell_type": "code",
   "execution_count": 18,
   "metadata": {},
   "outputs": [
    {
     "data": {
      "image/png": "[encoded data removed]",
      "text/plain": [
       "<Figure size 432x288 with 1 Axes>"
      ]
     },
     "metadata": {
      "needs_background": "light"
     },
     "output_type": "display_data"
    }
   ],
   "source": [
    "df['Q1'].value_counts().plot(kind='bar')\n",
    "plt.xlabel(\"Response\")\n",
    "plt.ylabel(\"Person Count\")\n",
    "plt.show()"
   ]
  },
  {
   "cell_type": "code",
   "execution_count": 19,
   "metadata": {},
   "outputs": [
    {
     "name": "stdout",
     "output_type": "stream",
     "text": [
      "Average for people with GPA 3.5 or above:  0.13793103448275862\n",
      "Average for people with GPA below 3.5  -0.13043478260869565\n",
      "On average, people with higher GPAs prefer to prioritize their GPA\n"
     ]
    }
   ],
   "source": [
    "print('Average for people with GPA 3.5 or above: ',df[df['GPA'] >= 3.5]['Q1'].mean())\n",
    "print('Average for people with GPA below 3.5 ',df[df['GPA'] < 3.5]['Q1'].mean())\n",
    "print('On average, people with higher GPAs prefer to prioritize their GPA')"
   ]
  },
  {
   "cell_type": "markdown",
   "metadata": {},
   "source": [
    "###### Hypothesis: People with higher GPAs prefer to prioritize GPA than to prioritize building relationships more than people with lower GPAs"
   ]
  },
  {
   "cell_type": "code",
   "execution_count": 20,
   "metadata": {},
   "outputs": [
    {
     "name": "stdout",
     "output_type": "stream",
     "text": [
      "Average response for Males:  0.043478260869565216\n",
      "Average response for Females:  -0.07407407407407407\n",
      "On average, females prefer to prioritize relationship building\n"
     ]
    }
   ],
   "source": [
    "print('Average response for Males: ',df[df['Gender'] == 'Male']['Q1'].mean())\n",
    "print('Average response for Females: ',df[df['Gender'] == 'Female']['Q1'].mean())\n",
    "print('On average, females prefer to prioritize relationship building')"
   ]
  },
  {
   "cell_type": "markdown",
   "metadata": {},
   "source": [
    "###### Hypothesis: Females prefer to prioritize building relationships than to prioritize their GPAs more than males"
   ]
  },
  {
   "cell_type": "code",
   "execution_count": 21,
   "metadata": {},
   "outputs": [
    {
     "name": "stdout",
     "output_type": "stream",
     "text": [
      "Average response for STEM majors:  -0.13333333333333333\n",
      "Average response for NON-STEM majors:  0.15\n",
      "On average, STEM majors prefer to prioritize relationship building\n"
     ]
    }
   ],
   "source": [
    "print('Average response for STEM majors: ',df_stem[df_stem['Major'] == 'STEM']['Q1'].mean())\n",
    "print('Average response for NON-STEM majors: ',df_stem[df_stem['Major'] == 'NONSTEM']['Q1'].mean())\n",
    "print('On average, STEM majors prefer to prioritize relationship building')"
   ]
  },
  {
   "cell_type": "markdown",
   "metadata": {},
   "source": [
    "###### Hypothesis: STEM majors prefer to prioritize building relationships than to prioritize their GPAs more than non-STEM majors"
   ]
  },
  {
   "cell_type": "code",
   "execution_count": 22,
   "metadata": {},
   "outputs": [
    {
     "data": {
      "text/html": [
       "<table class=\"simpletable\">\n",
       "<caption>OLS Regression Results</caption>\n",
       "<tr>\n",
       "  <th>Dep. Variable:</th>           <td>Q1</td>        <th>  R-squared:         </th> <td>   0.002</td>\n",
       "</tr>\n",
       "<tr>\n",
       "  <th>Model:</th>                   <td>OLS</td>       <th>  Adj. R-squared:    </th> <td>  -0.018</td>\n",
       "</tr>\n",
       "<tr>\n",
       "  <th>Method:</th>             <td>Least Squares</td>  <th>  F-statistic:       </th> <td> 0.08067</td>\n",
       "</tr>\n",
       "<tr>\n",
       "  <th>Date:</th>             <td>Mon, 09 Mar 2020</td> <th>  Prob (F-statistic):</th>  <td> 0.778</td> \n",
       "</tr>\n",
       "<tr>\n",
       "  <th>Time:</th>                 <td>01:55:08</td>     <th>  Log-Likelihood:    </th> <td> -74.229</td>\n",
       "</tr>\n",
       "<tr>\n",
       "  <th>No. Observations:</th>      <td>    52</td>      <th>  AIC:               </th> <td>   152.5</td>\n",
       "</tr>\n",
       "<tr>\n",
       "  <th>Df Residuals:</th>          <td>    50</td>      <th>  BIC:               </th> <td>   156.4</td>\n",
       "</tr>\n",
       "<tr>\n",
       "  <th>Df Model:</th>              <td>     1</td>      <th>                     </th>     <td> </td>   \n",
       "</tr>\n",
       "<tr>\n",
       "  <th>Covariance Type:</th>      <td>nonrobust</td>    <th>                     </th>     <td> </td>   \n",
       "</tr>\n",
       "</table>\n",
       "<table class=\"simpletable\">\n",
       "<tr>\n",
       "      <td></td>         <th>coef</th>     <th>std err</th>      <th>t</th>      <th>P>|t|</th>  <th>[0.025</th>    <th>0.975]</th>  \n",
       "</tr>\n",
       "<tr>\n",
       "  <th>Intercept</th> <td>    0.3274</td> <td>    1.094</td> <td>    0.299</td> <td> 0.766</td> <td>   -1.870</td> <td>    2.525</td>\n",
       "</tr>\n",
       "<tr>\n",
       "  <th>GPA</th>       <td>   -0.0891</td> <td>    0.314</td> <td>   -0.284</td> <td> 0.778</td> <td>   -0.719</td> <td>    0.541</td>\n",
       "</tr>\n",
       "</table>\n",
       "<table class=\"simpletable\">\n",
       "<tr>\n",
       "  <th>Omnibus:</th>       <td> 0.339</td> <th>  Durbin-Watson:     </th> <td>   1.766</td>\n",
       "</tr>\n",
       "<tr>\n",
       "  <th>Prob(Omnibus):</th> <td> 0.844</td> <th>  Jarque-Bera (JB):  </th> <td>   0.516</td>\n",
       "</tr>\n",
       "<tr>\n",
       "  <th>Skew:</th>          <td> 0.087</td> <th>  Prob(JB):          </th> <td>   0.773</td>\n",
       "</tr>\n",
       "<tr>\n",
       "  <th>Kurtosis:</th>      <td> 2.544</td> <th>  Cond. No.          </th> <td>    28.9</td>\n",
       "</tr>\n",
       "</table><br/><br/>Warnings:<br/>[1] Standard Errors assume that the covariance matrix of the errors is correctly specified."
      ],
      "text/plain": [
       "<class 'statsmodels.iolib.summary.Summary'>\n",
       "\"\"\"\n",
       "                            OLS Regression Results                            \n",
       "==============================================================================\n",
       "Dep. Variable:                     Q1   R-squared:                       0.002\n",
       "Model:                            OLS   Adj. R-squared:                 -0.018\n",
       "Method:                 Least Squares   F-statistic:                   0.08067\n",
       "Date:                Mon, 09 Mar 2020   Prob (F-statistic):              0.778\n",
       "Time:                        01:55:08   Log-Likelihood:                -74.229\n",
       "No. Observations:                  52   AIC:                             152.5\n",
       "Df Residuals:                      50   BIC:                             156.4\n",
       "Df Model:                           1                                         \n",
       "Covariance Type:            nonrobust                                         \n",
       "==============================================================================\n",
       "                 coef    std err          t      P>|t|      [0.025      0.975]\n",
       "------------------------------------------------------------------------------\n",
       "Intercept      0.3274      1.094      0.299      0.766      -1.870       2.525\n",
       "GPA           -0.0891      0.314     -0.284      0.778      -0.719       0.541\n",
       "==============================================================================\n",
       "Omnibus:                        0.339   Durbin-Watson:                   1.766\n",
       "Prob(Omnibus):                  0.844   Jarque-Bera (JB):                0.516\n",
       "Skew:                           0.087   Prob(JB):                        0.773\n",
       "Kurtosis:                       2.544   Cond. No.                         28.9\n",
       "==============================================================================\n",
       "\n",
       "Warnings:\n",
       "[1] Standard Errors assume that the covariance matrix of the errors is correctly specified.\n",
       "\"\"\""
      ]
     },
     "execution_count": 22,
     "metadata": {},
     "output_type": "execute_result"
    }
   ],
   "source": [
    "outcome, predictors = patsy.dmatrices('Q1 ~ GPA',df)\n",
    "mod = sm.OLS(outcome,predictors)\n",
    "res = mod.fit()\n",
    "res.summary()"
   ]
  },
  {
   "cell_type": "code",
   "execution_count": 23,
   "metadata": {},
   "outputs": [
    {
     "data": {
      "text/html": [
       "<table class=\"simpletable\">\n",
       "<caption>OLS Regression Results</caption>\n",
       "<tr>\n",
       "  <th>Dep. Variable:</th>           <td>Q1</td>        <th>  R-squared:         </th> <td>   0.004</td>\n",
       "</tr>\n",
       "<tr>\n",
       "  <th>Model:</th>                   <td>OLS</td>       <th>  Adj. R-squared:    </th> <td>  -0.017</td>\n",
       "</tr>\n",
       "<tr>\n",
       "  <th>Method:</th>             <td>Least Squares</td>  <th>  F-statistic:       </th> <td>  0.1688</td>\n",
       "</tr>\n",
       "<tr>\n",
       "  <th>Date:</th>             <td>Mon, 09 Mar 2020</td> <th>  Prob (F-statistic):</th>  <td> 0.683</td> \n",
       "</tr>\n",
       "<tr>\n",
       "  <th>Time:</th>                 <td>01:55:08</td>     <th>  Log-Likelihood:    </th> <td> -70.344</td>\n",
       "</tr>\n",
       "<tr>\n",
       "  <th>No. Observations:</th>      <td>    50</td>      <th>  AIC:               </th> <td>   144.7</td>\n",
       "</tr>\n",
       "<tr>\n",
       "  <th>Df Residuals:</th>          <td>    48</td>      <th>  BIC:               </th> <td>   148.5</td>\n",
       "</tr>\n",
       "<tr>\n",
       "  <th>Df Model:</th>              <td>     1</td>      <th>                     </th>     <td> </td>   \n",
       "</tr>\n",
       "<tr>\n",
       "  <th>Covariance Type:</th>      <td>nonrobust</td>    <th>                     </th>     <td> </td>   \n",
       "</tr>\n",
       "</table>\n",
       "<table class=\"simpletable\">\n",
       "<tr>\n",
       "         <td></td>           <th>coef</th>     <th>std err</th>      <th>t</th>      <th>P>|t|</th>  <th>[0.025</th>    <th>0.975]</th>  \n",
       "</tr>\n",
       "<tr>\n",
       "  <th>Intercept</th>      <td>   -0.0741</td> <td>    0.194</td> <td>   -0.382</td> <td> 0.704</td> <td>   -0.464</td> <td>    0.316</td>\n",
       "</tr>\n",
       "<tr>\n",
       "  <th>Gender[T.Male]</th> <td>    0.1176</td> <td>    0.286</td> <td>    0.411</td> <td> 0.683</td> <td>   -0.458</td> <td>    0.693</td>\n",
       "</tr>\n",
       "</table>\n",
       "<table class=\"simpletable\">\n",
       "<tr>\n",
       "  <th>Omnibus:</th>       <td> 0.405</td> <th>  Durbin-Watson:     </th> <td>   1.746</td>\n",
       "</tr>\n",
       "<tr>\n",
       "  <th>Prob(Omnibus):</th> <td> 0.817</td> <th>  Jarque-Bera (JB):  </th> <td>   0.558</td>\n",
       "</tr>\n",
       "<tr>\n",
       "  <th>Skew:</th>          <td> 0.036</td> <th>  Prob(JB):          </th> <td>   0.757</td>\n",
       "</tr>\n",
       "<tr>\n",
       "  <th>Kurtosis:</th>      <td> 2.488</td> <th>  Cond. No.          </th> <td>    2.53</td>\n",
       "</tr>\n",
       "</table><br/><br/>Warnings:<br/>[1] Standard Errors assume that the covariance matrix of the errors is correctly specified."
      ],
      "text/plain": [
       "<class 'statsmodels.iolib.summary.Summary'>\n",
       "\"\"\"\n",
       "                            OLS Regression Results                            \n",
       "==============================================================================\n",
       "Dep. Variable:                     Q1   R-squared:                       0.004\n",
       "Model:                            OLS   Adj. R-squared:                 -0.017\n",
       "Method:                 Least Squares   F-statistic:                    0.1688\n",
       "Date:                Mon, 09 Mar 2020   Prob (F-statistic):              0.683\n",
       "Time:                        01:55:08   Log-Likelihood:                -70.344\n",
       "No. Observations:                  50   AIC:                             144.7\n",
       "Df Residuals:                      48   BIC:                             148.5\n",
       "Df Model:                           1                                         \n",
       "Covariance Type:            nonrobust                                         \n",
       "==================================================================================\n",
       "                     coef    std err          t      P>|t|      [0.025      0.975]\n",
       "----------------------------------------------------------------------------------\n",
       "Intercept         -0.0741      0.194     -0.382      0.704      -0.464       0.316\n",
       "Gender[T.Male]     0.1176      0.286      0.411      0.683      -0.458       0.693\n",
       "==============================================================================\n",
       "Omnibus:                        0.405   Durbin-Watson:                   1.746\n",
       "Prob(Omnibus):                  0.817   Jarque-Bera (JB):                0.558\n",
       "Skew:                           0.036   Prob(JB):                        0.757\n",
       "Kurtosis:                       2.488   Cond. No.                         2.53\n",
       "==============================================================================\n",
       "\n",
       "Warnings:\n",
       "[1] Standard Errors assume that the covariance matrix of the errors is correctly specified.\n",
       "\"\"\""
      ]
     },
     "execution_count": 23,
     "metadata": {},
     "output_type": "execute_result"
    }
   ],
   "source": [
    "outcome, predictors = patsy.dmatrices('Q1 ~ Gender',df_gender)\n",
    "mod = sm.OLS(outcome,predictors)\n",
    "res = mod.fit()\n",
    "res.summary()"
   ]
  },
  {
   "cell_type": "code",
   "execution_count": 24,
   "metadata": {},
   "outputs": [
    {
     "data": {
      "text/html": [
       "<table class=\"simpletable\">\n",
       "<caption>OLS Regression Results</caption>\n",
       "<tr>\n",
       "  <th>Dep. Variable:</th>           <td>Q1</td>        <th>  R-squared:         </th> <td>   0.020</td>\n",
       "</tr>\n",
       "<tr>\n",
       "  <th>Model:</th>                   <td>OLS</td>       <th>  Adj. R-squared:    </th> <td>  -0.001</td>\n",
       "</tr>\n",
       "<tr>\n",
       "  <th>Method:</th>             <td>Least Squares</td>  <th>  F-statistic:       </th> <td>  0.9630</td>\n",
       "</tr>\n",
       "<tr>\n",
       "  <th>Date:</th>             <td>Mon, 09 Mar 2020</td> <th>  Prob (F-statistic):</th>  <td> 0.331</td> \n",
       "</tr>\n",
       "<tr>\n",
       "  <th>Time:</th>                 <td>01:55:08</td>     <th>  Log-Likelihood:    </th> <td> -69.935</td>\n",
       "</tr>\n",
       "<tr>\n",
       "  <th>No. Observations:</th>      <td>    50</td>      <th>  AIC:               </th> <td>   143.9</td>\n",
       "</tr>\n",
       "<tr>\n",
       "  <th>Df Residuals:</th>          <td>    48</td>      <th>  BIC:               </th> <td>   147.7</td>\n",
       "</tr>\n",
       "<tr>\n",
       "  <th>Df Model:</th>              <td>     1</td>      <th>                     </th>     <td> </td>   \n",
       "</tr>\n",
       "<tr>\n",
       "  <th>Covariance Type:</th>      <td>nonrobust</td>    <th>                     </th>     <td> </td>   \n",
       "</tr>\n",
       "</table>\n",
       "<table class=\"simpletable\">\n",
       "<tr>\n",
       "        <td></td>           <th>coef</th>     <th>std err</th>      <th>t</th>      <th>P>|t|</th>  <th>[0.025</th>    <th>0.975]</th>  \n",
       "</tr>\n",
       "<tr>\n",
       "  <th>Intercept</th>     <td>    0.1500</td> <td>    0.224</td> <td>    0.671</td> <td> 0.506</td> <td>   -0.300</td> <td>    0.600</td>\n",
       "</tr>\n",
       "<tr>\n",
       "  <th>Major[T.STEM]</th> <td>   -0.2833</td> <td>    0.289</td> <td>   -0.981</td> <td> 0.331</td> <td>   -0.864</td> <td>    0.297</td>\n",
       "</tr>\n",
       "</table>\n",
       "<table class=\"simpletable\">\n",
       "<tr>\n",
       "  <th>Omnibus:</th>       <td> 0.076</td> <th>  Durbin-Watson:     </th> <td>   1.932</td>\n",
       "</tr>\n",
       "<tr>\n",
       "  <th>Prob(Omnibus):</th> <td> 0.963</td> <th>  Jarque-Bera (JB):  </th> <td>   0.259</td>\n",
       "</tr>\n",
       "<tr>\n",
       "  <th>Skew:</th>          <td>-0.056</td> <th>  Prob(JB):          </th> <td>   0.879</td>\n",
       "</tr>\n",
       "<tr>\n",
       "  <th>Kurtosis:</th>      <td> 2.666</td> <th>  Cond. No.          </th> <td>    2.92</td>\n",
       "</tr>\n",
       "</table><br/><br/>Warnings:<br/>[1] Standard Errors assume that the covariance matrix of the errors is correctly specified."
      ],
      "text/plain": [
       "<class 'statsmodels.iolib.summary.Summary'>\n",
       "\"\"\"\n",
       "                            OLS Regression Results                            \n",
       "==============================================================================\n",
       "Dep. Variable:                     Q1   R-squared:                       0.020\n",
       "Model:                            OLS   Adj. R-squared:                 -0.001\n",
       "Method:                 Least Squares   F-statistic:                    0.9630\n",
       "Date:                Mon, 09 Mar 2020   Prob (F-statistic):              0.331\n",
       "Time:                        01:55:08   Log-Likelihood:                -69.935\n",
       "No. Observations:                  50   AIC:                             143.9\n",
       "Df Residuals:                      48   BIC:                             147.7\n",
       "Df Model:                           1                                         \n",
       "Covariance Type:            nonrobust                                         \n",
       "=================================================================================\n",
       "                    coef    std err          t      P>|t|      [0.025      0.975]\n",
       "---------------------------------------------------------------------------------\n",
       "Intercept         0.1500      0.224      0.671      0.506      -0.300       0.600\n",
       "Major[T.STEM]    -0.2833      0.289     -0.981      0.331      -0.864       0.297\n",
       "==============================================================================\n",
       "Omnibus:                        0.076   Durbin-Watson:                   1.932\n",
       "Prob(Omnibus):                  0.963   Jarque-Bera (JB):                0.259\n",
       "Skew:                          -0.056   Prob(JB):                        0.879\n",
       "Kurtosis:                       2.666   Cond. No.                         2.92\n",
       "==============================================================================\n",
       "\n",
       "Warnings:\n",
       "[1] Standard Errors assume that the covariance matrix of the errors is correctly specified.\n",
       "\"\"\""
      ]
     },
     "execution_count": 24,
     "metadata": {},
     "output_type": "execute_result"
    }
   ],
   "source": [
    "outcome, predictors = patsy.dmatrices('Q1 ~ Major',df_stem)\n",
    "mod = sm.OLS(outcome,predictors)\n",
    "res = mod.fit()\n",
    "res.summary()"
   ]
  },
  {
   "cell_type": "code",
   "execution_count": 25,
   "metadata": {},
   "outputs": [
    {
     "data": {
      "text/html": [
       "<table class=\"simpletable\">\n",
       "<caption>OLS Regression Results</caption>\n",
       "<tr>\n",
       "  <th>Dep. Variable:</th>           <td>Q1</td>        <th>  R-squared:         </th> <td>   0.039</td>\n",
       "</tr>\n",
       "<tr>\n",
       "  <th>Model:</th>                   <td>OLS</td>       <th>  Adj. R-squared:    </th> <td>  -0.027</td>\n",
       "</tr>\n",
       "<tr>\n",
       "  <th>Method:</th>             <td>Least Squares</td>  <th>  F-statistic:       </th> <td>  0.5948</td>\n",
       "</tr>\n",
       "<tr>\n",
       "  <th>Date:</th>             <td>Mon, 09 Mar 2020</td> <th>  Prob (F-statistic):</th>  <td> 0.622</td> \n",
       "</tr>\n",
       "<tr>\n",
       "  <th>Time:</th>                 <td>01:55:08</td>     <th>  Log-Likelihood:    </th> <td> -65.506</td>\n",
       "</tr>\n",
       "<tr>\n",
       "  <th>No. Observations:</th>      <td>    48</td>      <th>  AIC:               </th> <td>   139.0</td>\n",
       "</tr>\n",
       "<tr>\n",
       "  <th>Df Residuals:</th>          <td>    44</td>      <th>  BIC:               </th> <td>   146.5</td>\n",
       "</tr>\n",
       "<tr>\n",
       "  <th>Df Model:</th>              <td>     3</td>      <th>                     </th>     <td> </td>   \n",
       "</tr>\n",
       "<tr>\n",
       "  <th>Covariance Type:</th>      <td>nonrobust</td>    <th>                     </th>     <td> </td>   \n",
       "</tr>\n",
       "</table>\n",
       "<table class=\"simpletable\">\n",
       "<tr>\n",
       "         <td></td>           <th>coef</th>     <th>std err</th>      <th>t</th>      <th>P>|t|</th>  <th>[0.025</th>    <th>0.975]</th>  \n",
       "</tr>\n",
       "<tr>\n",
       "  <th>Intercept</th>      <td>    0.1802</td> <td>    0.271</td> <td>    0.666</td> <td> 0.509</td> <td>   -0.365</td> <td>    0.726</td>\n",
       "</tr>\n",
       "<tr>\n",
       "  <th>GPA[T.LOW]</th>     <td>   -0.1324</td> <td>    0.297</td> <td>   -0.445</td> <td> 0.658</td> <td>   -0.731</td> <td>    0.466</td>\n",
       "</tr>\n",
       "<tr>\n",
       "  <th>Major[T.STEM]</th>  <td>   -0.3547</td> <td>    0.290</td> <td>   -1.221</td> <td> 0.229</td> <td>   -0.940</td> <td>    0.231</td>\n",
       "</tr>\n",
       "<tr>\n",
       "  <th>Gender[T.Male]</th> <td>    0.0505</td> <td>    0.297</td> <td>    0.170</td> <td> 0.866</td> <td>   -0.547</td> <td>    0.648</td>\n",
       "</tr>\n",
       "</table>\n",
       "<table class=\"simpletable\">\n",
       "<tr>\n",
       "  <th>Omnibus:</th>       <td> 0.379</td> <th>  Durbin-Watson:     </th> <td>   1.966</td>\n",
       "</tr>\n",
       "<tr>\n",
       "  <th>Prob(Omnibus):</th> <td> 0.827</td> <th>  Jarque-Bera (JB):  </th> <td>   0.540</td>\n",
       "</tr>\n",
       "<tr>\n",
       "  <th>Skew:</th>          <td>-0.158</td> <th>  Prob(JB):          </th> <td>   0.763</td>\n",
       "</tr>\n",
       "<tr>\n",
       "  <th>Kurtosis:</th>      <td> 2.587</td> <th>  Cond. No.          </th> <td>    3.55</td>\n",
       "</tr>\n",
       "</table><br/><br/>Warnings:<br/>[1] Standard Errors assume that the covariance matrix of the errors is correctly specified."
      ],
      "text/plain": [
       "<class 'statsmodels.iolib.summary.Summary'>\n",
       "\"\"\"\n",
       "                            OLS Regression Results                            \n",
       "==============================================================================\n",
       "Dep. Variable:                     Q1   R-squared:                       0.039\n",
       "Model:                            OLS   Adj. R-squared:                 -0.027\n",
       "Method:                 Least Squares   F-statistic:                    0.5948\n",
       "Date:                Mon, 09 Mar 2020   Prob (F-statistic):              0.622\n",
       "Time:                        01:55:08   Log-Likelihood:                -65.506\n",
       "No. Observations:                  48   AIC:                             139.0\n",
       "Df Residuals:                      44   BIC:                             146.5\n",
       "Df Model:                           3                                         \n",
       "Covariance Type:            nonrobust                                         \n",
       "==================================================================================\n",
       "                     coef    std err          t      P>|t|      [0.025      0.975]\n",
       "----------------------------------------------------------------------------------\n",
       "Intercept          0.1802      0.271      0.666      0.509      -0.365       0.726\n",
       "GPA[T.LOW]        -0.1324      0.297     -0.445      0.658      -0.731       0.466\n",
       "Major[T.STEM]     -0.3547      0.290     -1.221      0.229      -0.940       0.231\n",
       "Gender[T.Male]     0.0505      0.297      0.170      0.866      -0.547       0.648\n",
       "==============================================================================\n",
       "Omnibus:                        0.379   Durbin-Watson:                   1.966\n",
       "Prob(Omnibus):                  0.827   Jarque-Bera (JB):                0.540\n",
       "Skew:                          -0.158   Prob(JB):                        0.763\n",
       "Kurtosis:                       2.587   Cond. No.                         3.55\n",
       "==============================================================================\n",
       "\n",
       "Warnings:\n",
       "[1] Standard Errors assume that the covariance matrix of the errors is correctly specified.\n",
       "\"\"\""
      ]
     },
     "execution_count": 25,
     "metadata": {},
     "output_type": "execute_result"
    }
   ],
   "source": [
    "outcome, predictors = patsy.dmatrices('Q1 ~ GPA + Major + Gender',df_all)\n",
    "mod = sm.OLS(outcome,predictors)\n",
    "res = mod.fit()\n",
    "res.summary()"
   ]
  },
  {
   "cell_type": "markdown",
   "metadata": {},
   "source": [
    "###### Overall, you can see that from the data, the best predictor for the question that asks whether GPA is more important than relationships, is major when compared to GPA and gender. The p-values do not support any of the hypotheses, though."
   ]
  },
  {
   "cell_type": "markdown",
   "metadata": {},
   "source": [
    "## Q2: \"It is more important to attend every single lecture rather than just reading off the slides from canvas and watching the podcasts\""
   ]
  },
  {
   "cell_type": "code",
   "execution_count": 26,
   "metadata": {},
   "outputs": [
    {
     "data": {
      "image/png": "[encoded data removed]",
      "text/plain": [
       "<Figure size 432x288 with 1 Axes>"
      ]
     },
     "metadata": {
      "needs_background": "light"
     },
     "output_type": "display_data"
    }
   ],
   "source": [
    "df['Q2'].value_counts().plot(kind='bar')\n",
    "plt.xlabel(\"Response\")\n",
    "plt.ylabel(\"Person Count\")\n",
    "plt.show()"
   ]
  },
  {
   "cell_type": "code",
   "execution_count": 27,
   "metadata": {},
   "outputs": [
    {
     "name": "stdout",
     "output_type": "stream",
     "text": [
      "Average for people with GPA 3.5 or above:  0.8275862068965517\n",
      "Average for people with GPA below 3.5  0.0\n",
      "On average, people with higher GPAs prefer to attend lecture\n"
     ]
    }
   ],
   "source": [
    "print('Average for people with GPA 3.5 or above: ',df[df['GPA'] >= 3.5]['Q2'].mean())\n",
    "print('Average for people with GPA below 3.5 ',df[df['GPA'] < 3.5]['Q2'].mean())\n",
    "print('On average, people with higher GPAs prefer to attend lecture')"
   ]
  },
  {
   "cell_type": "markdown",
   "metadata": {},
   "source": [
    "###### Hypothesis: People with higher GPAs prefer to attend lecture"
   ]
  },
  {
   "cell_type": "code",
   "execution_count": 28,
   "metadata": {},
   "outputs": [
    {
     "name": "stdout",
     "output_type": "stream",
     "text": [
      "Average for Males:  0.21739130434782608\n",
      "Average for Females majors:  0.5555555555555556\n",
      "On average, females prefer to attend lecture\n"
     ]
    }
   ],
   "source": [
    "print('Average for Males: ',df[df['Gender'] == 'Male']['Q2'].mean())\n",
    "print('Average for Females majors: ',df[df['Gender'] == 'Female']['Q2'].mean())\n",
    "print('On average, females prefer to attend lecture')"
   ]
  },
  {
   "cell_type": "markdown",
   "metadata": {},
   "source": [
    "###### Hypothesis: Females prefer to attend lecture"
   ]
  },
  {
   "cell_type": "code",
   "execution_count": 29,
   "metadata": {},
   "outputs": [
    {
     "name": "stdout",
     "output_type": "stream",
     "text": [
      "Average for STEM majors:  0.06666666666666667\n",
      "Average for NON-STEM majors:  1.0\n",
      "On average, NON-STEM majors prefer to attend lecture\n"
     ]
    }
   ],
   "source": [
    "print('Average for STEM majors: ',df_stem[df_stem['Major'] == 'STEM']['Q2'].mean())\n",
    "print('Average for NON-STEM majors: ',df_stem[df_stem['Major'] == 'NONSTEM']['Q2'].mean())\n",
    "print('On average, NON-STEM majors prefer to attend lecture')"
   ]
  },
  {
   "cell_type": "markdown",
   "metadata": {},
   "source": [
    "###### Hypothesis: People that are non-STEM majors prefer to attend lecture"
   ]
  },
  {
   "cell_type": "code",
   "execution_count": 30,
   "metadata": {},
   "outputs": [
    {
     "data": {
      "text/html": [
       "<table class=\"simpletable\">\n",
       "<caption>OLS Regression Results</caption>\n",
       "<tr>\n",
       "  <th>Dep. Variable:</th>           <td>Q2</td>        <th>  R-squared:         </th> <td>   0.086</td>\n",
       "</tr>\n",
       "<tr>\n",
       "  <th>Model:</th>                   <td>OLS</td>       <th>  Adj. R-squared:    </th> <td>   0.068</td>\n",
       "</tr>\n",
       "<tr>\n",
       "  <th>Method:</th>             <td>Least Squares</td>  <th>  F-statistic:       </th> <td>   4.712</td>\n",
       "</tr>\n",
       "<tr>\n",
       "  <th>Date:</th>             <td>Mon, 09 Mar 2020</td> <th>  Prob (F-statistic):</th>  <td>0.0347</td> \n",
       "</tr>\n",
       "<tr>\n",
       "  <th>Time:</th>                 <td>01:55:08</td>     <th>  Log-Likelihood:    </th> <td> -80.236</td>\n",
       "</tr>\n",
       "<tr>\n",
       "  <th>No. Observations:</th>      <td>    52</td>      <th>  AIC:               </th> <td>   164.5</td>\n",
       "</tr>\n",
       "<tr>\n",
       "  <th>Df Residuals:</th>          <td>    50</td>      <th>  BIC:               </th> <td>   168.4</td>\n",
       "</tr>\n",
       "<tr>\n",
       "  <th>Df Model:</th>              <td>     1</td>      <th>                     </th>     <td> </td>   \n",
       "</tr>\n",
       "<tr>\n",
       "  <th>Covariance Type:</th>      <td>nonrobust</td>    <th>                     </th>     <td> </td>   \n",
       "</tr>\n",
       "</table>\n",
       "<table class=\"simpletable\">\n",
       "<tr>\n",
       "      <td></td>         <th>coef</th>     <th>std err</th>      <th>t</th>      <th>P>|t|</th>  <th>[0.025</th>    <th>0.975]</th>  \n",
       "</tr>\n",
       "<tr>\n",
       "  <th>Intercept</th> <td>   -2.1817</td> <td>    1.228</td> <td>   -1.776</td> <td> 0.082</td> <td>   -4.649</td> <td>    0.285</td>\n",
       "</tr>\n",
       "<tr>\n",
       "  <th>GPA</th>       <td>    0.7644</td> <td>    0.352</td> <td>    2.171</td> <td> 0.035</td> <td>    0.057</td> <td>    1.472</td>\n",
       "</tr>\n",
       "</table>\n",
       "<table class=\"simpletable\">\n",
       "<tr>\n",
       "  <th>Omnibus:</th>       <td> 3.153</td> <th>  Durbin-Watson:     </th> <td>   1.884</td>\n",
       "</tr>\n",
       "<tr>\n",
       "  <th>Prob(Omnibus):</th> <td> 0.207</td> <th>  Jarque-Bera (JB):  </th> <td>   2.872</td>\n",
       "</tr>\n",
       "<tr>\n",
       "  <th>Skew:</th>          <td>-0.496</td> <th>  Prob(JB):          </th> <td>   0.238</td>\n",
       "</tr>\n",
       "<tr>\n",
       "  <th>Kurtosis:</th>      <td> 2.416</td> <th>  Cond. No.          </th> <td>    28.9</td>\n",
       "</tr>\n",
       "</table><br/><br/>Warnings:<br/>[1] Standard Errors assume that the covariance matrix of the errors is correctly specified."
      ],
      "text/plain": [
       "<class 'statsmodels.iolib.summary.Summary'>\n",
       "\"\"\"\n",
       "                            OLS Regression Results                            \n",
       "==============================================================================\n",
       "Dep. Variable:                     Q2   R-squared:                       0.086\n",
       "Model:                            OLS   Adj. R-squared:                  0.068\n",
       "Method:                 Least Squares   F-statistic:                     4.712\n",
       "Date:                Mon, 09 Mar 2020   Prob (F-statistic):             0.0347\n",
       "Time:                        01:55:08   Log-Likelihood:                -80.236\n",
       "No. Observations:                  52   AIC:                             164.5\n",
       "Df Residuals:                      50   BIC:                             168.4\n",
       "Df Model:                           1                                         \n",
       "Covariance Type:            nonrobust                                         \n",
       "==============================================================================\n",
       "                 coef    std err          t      P>|t|      [0.025      0.975]\n",
       "------------------------------------------------------------------------------\n",
       "Intercept     -2.1817      1.228     -1.776      0.082      -4.649       0.285\n",
       "GPA            0.7644      0.352      2.171      0.035       0.057       1.472\n",
       "==============================================================================\n",
       "Omnibus:                        3.153   Durbin-Watson:                   1.884\n",
       "Prob(Omnibus):                  0.207   Jarque-Bera (JB):                2.872\n",
       "Skew:                          -0.496   Prob(JB):                        0.238\n",
       "Kurtosis:                       2.416   Cond. No.                         28.9\n",
       "==============================================================================\n",
       "\n",
       "Warnings:\n",
       "[1] Standard Errors assume that the covariance matrix of the errors is correctly specified.\n",
       "\"\"\""
      ]
     },
     "execution_count": 30,
     "metadata": {},
     "output_type": "execute_result"
    }
   ],
   "source": [
    "outcome, predictors = patsy.dmatrices('Q2 ~ GPA',df)\n",
    "mod = sm.OLS(outcome,predictors)\n",
    "res = mod.fit()\n",
    "res.summary()"
   ]
  },
  {
   "cell_type": "code",
   "execution_count": 31,
   "metadata": {},
   "outputs": [
    {
     "data": {
      "text/html": [
       "<table class=\"simpletable\">\n",
       "<caption>OLS Regression Results</caption>\n",
       "<tr>\n",
       "  <th>Dep. Variable:</th>           <td>Q2</td>        <th>  R-squared:         </th> <td>   0.021</td>\n",
       "</tr>\n",
       "<tr>\n",
       "  <th>Model:</th>                   <td>OLS</td>       <th>  Adj. R-squared:    </th> <td>   0.000</td>\n",
       "</tr>\n",
       "<tr>\n",
       "  <th>Method:</th>             <td>Least Squares</td>  <th>  F-statistic:       </th> <td>   1.024</td>\n",
       "</tr>\n",
       "<tr>\n",
       "  <th>Date:</th>             <td>Mon, 09 Mar 2020</td> <th>  Prob (F-statistic):</th>  <td> 0.317</td> \n",
       "</tr>\n",
       "<tr>\n",
       "  <th>Time:</th>                 <td>01:55:09</td>     <th>  Log-Likelihood:    </th> <td> -78.106</td>\n",
       "</tr>\n",
       "<tr>\n",
       "  <th>No. Observations:</th>      <td>    50</td>      <th>  AIC:               </th> <td>   160.2</td>\n",
       "</tr>\n",
       "<tr>\n",
       "  <th>Df Residuals:</th>          <td>    48</td>      <th>  BIC:               </th> <td>   164.0</td>\n",
       "</tr>\n",
       "<tr>\n",
       "  <th>Df Model:</th>              <td>     1</td>      <th>                     </th>     <td> </td>   \n",
       "</tr>\n",
       "<tr>\n",
       "  <th>Covariance Type:</th>      <td>nonrobust</td>    <th>                     </th>     <td> </td>   \n",
       "</tr>\n",
       "</table>\n",
       "<table class=\"simpletable\">\n",
       "<tr>\n",
       "         <td></td>           <th>coef</th>     <th>std err</th>      <th>t</th>      <th>P>|t|</th>  <th>[0.025</th>    <th>0.975]</th>  \n",
       "</tr>\n",
       "<tr>\n",
       "  <th>Intercept</th>      <td>    0.5556</td> <td>    0.227</td> <td>    2.451</td> <td> 0.018</td> <td>    0.100</td> <td>    1.011</td>\n",
       "</tr>\n",
       "<tr>\n",
       "  <th>Gender[T.Male]</th> <td>   -0.3382</td> <td>    0.334</td> <td>   -1.012</td> <td> 0.317</td> <td>   -1.010</td> <td>    0.334</td>\n",
       "</tr>\n",
       "</table>\n",
       "<table class=\"simpletable\">\n",
       "<tr>\n",
       "  <th>Omnibus:</th>       <td> 4.406</td> <th>  Durbin-Watson:     </th> <td>   1.863</td>\n",
       "</tr>\n",
       "<tr>\n",
       "  <th>Prob(Omnibus):</th> <td> 0.110</td> <th>  Jarque-Bera (JB):  </th> <td>   2.211</td>\n",
       "</tr>\n",
       "<tr>\n",
       "  <th>Skew:</th>          <td>-0.226</td> <th>  Prob(JB):          </th> <td>   0.331</td>\n",
       "</tr>\n",
       "<tr>\n",
       "  <th>Kurtosis:</th>      <td> 2.075</td> <th>  Cond. No.          </th> <td>    2.53</td>\n",
       "</tr>\n",
       "</table><br/><br/>Warnings:<br/>[1] Standard Errors assume that the covariance matrix of the errors is correctly specified."
      ],
      "text/plain": [
       "<class 'statsmodels.iolib.summary.Summary'>\n",
       "\"\"\"\n",
       "                            OLS Regression Results                            \n",
       "==============================================================================\n",
       "Dep. Variable:                     Q2   R-squared:                       0.021\n",
       "Model:                            OLS   Adj. R-squared:                  0.000\n",
       "Method:                 Least Squares   F-statistic:                     1.024\n",
       "Date:                Mon, 09 Mar 2020   Prob (F-statistic):              0.317\n",
       "Time:                        01:55:09   Log-Likelihood:                -78.106\n",
       "No. Observations:                  50   AIC:                             160.2\n",
       "Df Residuals:                      48   BIC:                             164.0\n",
       "Df Model:                           1                                         \n",
       "Covariance Type:            nonrobust                                         \n",
       "==================================================================================\n",
       "                     coef    std err          t      P>|t|      [0.025      0.975]\n",
       "----------------------------------------------------------------------------------\n",
       "Intercept          0.5556      0.227      2.451      0.018       0.100       1.011\n",
       "Gender[T.Male]    -0.3382      0.334     -1.012      0.317      -1.010       0.334\n",
       "==============================================================================\n",
       "Omnibus:                        4.406   Durbin-Watson:                   1.863\n",
       "Prob(Omnibus):                  0.110   Jarque-Bera (JB):                2.211\n",
       "Skew:                          -0.226   Prob(JB):                        0.331\n",
       "Kurtosis:                       2.075   Cond. No.                         2.53\n",
       "==============================================================================\n",
       "\n",
       "Warnings:\n",
       "[1] Standard Errors assume that the covariance matrix of the errors is correctly specified.\n",
       "\"\"\""
      ]
     },
     "execution_count": 31,
     "metadata": {},
     "output_type": "execute_result"
    }
   ],
   "source": [
    "outcome, predictors = patsy.dmatrices('Q2 ~ Gender',df_gender)\n",
    "mod = sm.OLS(outcome,predictors)\n",
    "res = mod.fit()\n",
    "res.summary()"
   ]
  },
  {
   "cell_type": "code",
   "execution_count": 32,
   "metadata": {},
   "outputs": [
    {
     "data": {
      "text/html": [
       "<table class=\"simpletable\">\n",
       "<caption>OLS Regression Results</caption>\n",
       "<tr>\n",
       "  <th>Dep. Variable:</th>           <td>Q2</td>        <th>  R-squared:         </th> <td>   0.149</td>\n",
       "</tr>\n",
       "<tr>\n",
       "  <th>Model:</th>                   <td>OLS</td>       <th>  Adj. R-squared:    </th> <td>   0.131</td>\n",
       "</tr>\n",
       "<tr>\n",
       "  <th>Method:</th>             <td>Least Squares</td>  <th>  F-statistic:       </th> <td>   8.381</td>\n",
       "</tr>\n",
       "<tr>\n",
       "  <th>Date:</th>             <td>Mon, 09 Mar 2020</td> <th>  Prob (F-statistic):</th>  <td>0.00569</td>\n",
       "</tr>\n",
       "<tr>\n",
       "  <th>Time:</th>                 <td>01:55:09</td>     <th>  Log-Likelihood:    </th> <td> -75.449</td>\n",
       "</tr>\n",
       "<tr>\n",
       "  <th>No. Observations:</th>      <td>    50</td>      <th>  AIC:               </th> <td>   154.9</td>\n",
       "</tr>\n",
       "<tr>\n",
       "  <th>Df Residuals:</th>          <td>    48</td>      <th>  BIC:               </th> <td>   158.7</td>\n",
       "</tr>\n",
       "<tr>\n",
       "  <th>Df Model:</th>              <td>     1</td>      <th>                     </th>     <td> </td>   \n",
       "</tr>\n",
       "<tr>\n",
       "  <th>Covariance Type:</th>      <td>nonrobust</td>    <th>                     </th>     <td> </td>   \n",
       "</tr>\n",
       "</table>\n",
       "<table class=\"simpletable\">\n",
       "<tr>\n",
       "        <td></td>           <th>coef</th>     <th>std err</th>      <th>t</th>      <th>P>|t|</th>  <th>[0.025</th>    <th>0.975]</th>  \n",
       "</tr>\n",
       "<tr>\n",
       "  <th>Intercept</th>     <td>    1.0000</td> <td>    0.250</td> <td>    4.004</td> <td> 0.000</td> <td>    0.498</td> <td>    1.502</td>\n",
       "</tr>\n",
       "<tr>\n",
       "  <th>Major[T.STEM]</th> <td>   -0.9333</td> <td>    0.322</td> <td>   -2.895</td> <td> 0.006</td> <td>   -1.582</td> <td>   -0.285</td>\n",
       "</tr>\n",
       "</table>\n",
       "<table class=\"simpletable\">\n",
       "<tr>\n",
       "  <th>Omnibus:</th>       <td> 2.744</td> <th>  Durbin-Watson:     </th> <td>   1.878</td>\n",
       "</tr>\n",
       "<tr>\n",
       "  <th>Prob(Omnibus):</th> <td> 0.254</td> <th>  Jarque-Bera (JB):  </th> <td>   1.549</td>\n",
       "</tr>\n",
       "<tr>\n",
       "  <th>Skew:</th>          <td>-0.104</td> <th>  Prob(JB):          </th> <td>   0.461</td>\n",
       "</tr>\n",
       "<tr>\n",
       "  <th>Kurtosis:</th>      <td> 2.163</td> <th>  Cond. No.          </th> <td>    2.92</td>\n",
       "</tr>\n",
       "</table><br/><br/>Warnings:<br/>[1] Standard Errors assume that the covariance matrix of the errors is correctly specified."
      ],
      "text/plain": [
       "<class 'statsmodels.iolib.summary.Summary'>\n",
       "\"\"\"\n",
       "                            OLS Regression Results                            \n",
       "==============================================================================\n",
       "Dep. Variable:                     Q2   R-squared:                       0.149\n",
       "Model:                            OLS   Adj. R-squared:                  0.131\n",
       "Method:                 Least Squares   F-statistic:                     8.381\n",
       "Date:                Mon, 09 Mar 2020   Prob (F-statistic):            0.00569\n",
       "Time:                        01:55:09   Log-Likelihood:                -75.449\n",
       "No. Observations:                  50   AIC:                             154.9\n",
       "Df Residuals:                      48   BIC:                             158.7\n",
       "Df Model:                           1                                         \n",
       "Covariance Type:            nonrobust                                         \n",
       "=================================================================================\n",
       "                    coef    std err          t      P>|t|      [0.025      0.975]\n",
       "---------------------------------------------------------------------------------\n",
       "Intercept         1.0000      0.250      4.004      0.000       0.498       1.502\n",
       "Major[T.STEM]    -0.9333      0.322     -2.895      0.006      -1.582      -0.285\n",
       "==============================================================================\n",
       "Omnibus:                        2.744   Durbin-Watson:                   1.878\n",
       "Prob(Omnibus):                  0.254   Jarque-Bera (JB):                1.549\n",
       "Skew:                          -0.104   Prob(JB):                        0.461\n",
       "Kurtosis:                       2.163   Cond. No.                         2.92\n",
       "==============================================================================\n",
       "\n",
       "Warnings:\n",
       "[1] Standard Errors assume that the covariance matrix of the errors is correctly specified.\n",
       "\"\"\""
      ]
     },
     "execution_count": 32,
     "metadata": {},
     "output_type": "execute_result"
    }
   ],
   "source": [
    "outcome, predictors = patsy.dmatrices('Q2 ~ Major', df_stem)\n",
    "mod = sm.OLS(outcome,predictors)\n",
    "res = mod.fit()\n",
    "res.summary()"
   ]
  },
  {
   "cell_type": "code",
   "execution_count": 33,
   "metadata": {},
   "outputs": [
    {
     "data": {
      "text/html": [
       "<table class=\"simpletable\">\n",
       "<caption>OLS Regression Results</caption>\n",
       "<tr>\n",
       "  <th>Dep. Variable:</th>           <td>Q2</td>        <th>  R-squared:         </th> <td>   0.325</td>\n",
       "</tr>\n",
       "<tr>\n",
       "  <th>Model:</th>                   <td>OLS</td>       <th>  Adj. R-squared:    </th> <td>   0.278</td>\n",
       "</tr>\n",
       "<tr>\n",
       "  <th>Method:</th>             <td>Least Squares</td>  <th>  F-statistic:       </th> <td>   7.047</td>\n",
       "</tr>\n",
       "<tr>\n",
       "  <th>Date:</th>             <td>Mon, 09 Mar 2020</td> <th>  Prob (F-statistic):</th> <td>0.000571</td>\n",
       "</tr>\n",
       "<tr>\n",
       "  <th>Time:</th>                 <td>01:55:09</td>     <th>  Log-Likelihood:    </th> <td> -66.061</td>\n",
       "</tr>\n",
       "<tr>\n",
       "  <th>No. Observations:</th>      <td>    48</td>      <th>  AIC:               </th> <td>   140.1</td>\n",
       "</tr>\n",
       "<tr>\n",
       "  <th>Df Residuals:</th>          <td>    44</td>      <th>  BIC:               </th> <td>   147.6</td>\n",
       "</tr>\n",
       "<tr>\n",
       "  <th>Df Model:</th>              <td>     3</td>      <th>                     </th>     <td> </td>   \n",
       "</tr>\n",
       "<tr>\n",
       "  <th>Covariance Type:</th>      <td>nonrobust</td>    <th>                     </th>     <td> </td>   \n",
       "</tr>\n",
       "</table>\n",
       "<table class=\"simpletable\">\n",
       "<tr>\n",
       "         <td></td>           <th>coef</th>     <th>std err</th>      <th>t</th>      <th>P>|t|</th>  <th>[0.025</th>    <th>0.975]</th>  \n",
       "</tr>\n",
       "<tr>\n",
       "  <th>Intercept</th>      <td>    1.4026</td> <td>    0.274</td> <td>    5.122</td> <td> 0.000</td> <td>    0.851</td> <td>    1.954</td>\n",
       "</tr>\n",
       "<tr>\n",
       "  <th>GPA[T.LOW]</th>     <td>   -0.7071</td> <td>    0.301</td> <td>   -2.352</td> <td> 0.023</td> <td>   -1.313</td> <td>   -0.101</td>\n",
       "</tr>\n",
       "<tr>\n",
       "  <th>Major[T.STEM]</th>  <td>   -1.0317</td> <td>    0.294</td> <td>   -3.511</td> <td> 0.001</td> <td>   -1.624</td> <td>   -0.440</td>\n",
       "</tr>\n",
       "<tr>\n",
       "  <th>Gender[T.Male]</th> <td>   -0.2662</td> <td>    0.300</td> <td>   -0.887</td> <td> 0.380</td> <td>   -0.871</td> <td>    0.339</td>\n",
       "</tr>\n",
       "</table>\n",
       "<table class=\"simpletable\">\n",
       "<tr>\n",
       "  <th>Omnibus:</th>       <td> 1.593</td> <th>  Durbin-Watson:     </th> <td>   2.001</td>\n",
       "</tr>\n",
       "<tr>\n",
       "  <th>Prob(Omnibus):</th> <td> 0.451</td> <th>  Jarque-Bera (JB):  </th> <td>   1.184</td>\n",
       "</tr>\n",
       "<tr>\n",
       "  <th>Skew:</th>          <td>-0.129</td> <th>  Prob(JB):          </th> <td>   0.553</td>\n",
       "</tr>\n",
       "<tr>\n",
       "  <th>Kurtosis:</th>      <td> 2.275</td> <th>  Cond. No.          </th> <td>    3.55</td>\n",
       "</tr>\n",
       "</table><br/><br/>Warnings:<br/>[1] Standard Errors assume that the covariance matrix of the errors is correctly specified."
      ],
      "text/plain": [
       "<class 'statsmodels.iolib.summary.Summary'>\n",
       "\"\"\"\n",
       "                            OLS Regression Results                            \n",
       "==============================================================================\n",
       "Dep. Variable:                     Q2   R-squared:                       0.325\n",
       "Model:                            OLS   Adj. R-squared:                  0.278\n",
       "Method:                 Least Squares   F-statistic:                     7.047\n",
       "Date:                Mon, 09 Mar 2020   Prob (F-statistic):           0.000571\n",
       "Time:                        01:55:09   Log-Likelihood:                -66.061\n",
       "No. Observations:                  48   AIC:                             140.1\n",
       "Df Residuals:                      44   BIC:                             147.6\n",
       "Df Model:                           3                                         \n",
       "Covariance Type:            nonrobust                                         \n",
       "==================================================================================\n",
       "                     coef    std err          t      P>|t|      [0.025      0.975]\n",
       "----------------------------------------------------------------------------------\n",
       "Intercept          1.4026      0.274      5.122      0.000       0.851       1.954\n",
       "GPA[T.LOW]        -0.7071      0.301     -2.352      0.023      -1.313      -0.101\n",
       "Major[T.STEM]     -1.0317      0.294     -3.511      0.001      -1.624      -0.440\n",
       "Gender[T.Male]    -0.2662      0.300     -0.887      0.380      -0.871       0.339\n",
       "==============================================================================\n",
       "Omnibus:                        1.593   Durbin-Watson:                   2.001\n",
       "Prob(Omnibus):                  0.451   Jarque-Bera (JB):                1.184\n",
       "Skew:                          -0.129   Prob(JB):                        0.553\n",
       "Kurtosis:                       2.275   Cond. No.                         3.55\n",
       "==============================================================================\n",
       "\n",
       "Warnings:\n",
       "[1] Standard Errors assume that the covariance matrix of the errors is correctly specified.\n",
       "\"\"\""
      ]
     },
     "execution_count": 33,
     "metadata": {},
     "output_type": "execute_result"
    }
   ],
   "source": [
    "outcome, predictors = patsy.dmatrices('Q2 ~ GPA + Major + Gender',df_all)\n",
    "mod = sm.OLS(outcome,predictors)\n",
    "res = mod.fit()\n",
    "res.summary()"
   ]
  },
  {
   "cell_type": "markdown",
   "metadata": {},
   "source": [
    "###### Overall, you can see that from the data, both GPA and major support the hypothesis that people with higher GPAs tend to prefer attending lecture and people that are NON-STEM majors tend to prefer attending lecture, and this is supported by the p-values, but it does not support the hypothesis that gender influences attendance preference."
   ]
  },
  {
   "cell_type": "markdown",
   "metadata": {},
   "source": [
    "## Q3: \"Not seeking support from classmates will cause you to perform poorly in a course\""
   ]
  },
  {
   "cell_type": "code",
   "execution_count": 34,
   "metadata": {},
   "outputs": [
    {
     "data": {
      "image/png": "[encoded data removed]",
      "text/plain": [
       "<Figure size 432x288 with 1 Axes>"
      ]
     },
     "metadata": {
      "needs_background": "light"
     },
     "output_type": "display_data"
    }
   ],
   "source": [
    "df['Q3'].value_counts().plot(kind='bar')\n",
    "plt.xlabel(\"Response\")\n",
    "plt.ylabel(\"Person Count\")\n",
    "plt.show()"
   ]
  },
  {
   "cell_type": "code",
   "execution_count": 35,
   "metadata": {},
   "outputs": [
    {
     "name": "stdout",
     "output_type": "stream",
     "text": [
      "Average for people with GPA 3.5 or above:  0.034482758620689655\n",
      "Average for people with GPA below 3.5  -0.17391304347826086\n",
      "On average, people with lower GPAs dont think that classmate support causes you to perform poorly in the class\n"
     ]
    }
   ],
   "source": [
    "print('Average for people with GPA 3.5 or above: ',df[df['GPA'] >= 3.5]['Q3'].mean())\n",
    "print('Average for people with GPA below 3.5 ',df[df['GPA'] < 3.5]['Q3'].mean())\n",
    "print('On average, people with lower GPAs dont think that classmate support causes '+\n",
    "      'you to perform poorly in the class')"
   ]
  },
  {
   "cell_type": "markdown",
   "metadata": {},
   "source": [
    "###### Hypothesis: people with lower GPAs dont value support from classmates compared to higher GPAs"
   ]
  },
  {
   "cell_type": "code",
   "execution_count": 36,
   "metadata": {},
   "outputs": [
    {
     "name": "stdout",
     "output_type": "stream",
     "text": [
      "Average for Males:  0.0\n",
      "Average for Females majors:  -0.037037037037037035\n",
      "On average, females dont think classmate support causes you to perform poorly in a course\n"
     ]
    }
   ],
   "source": [
    "print('Average for Males: ',df[df['Gender'] == 'Male']['Q3'].mean())\n",
    "print('Average for Females majors: ',df[df['Gender'] == 'Female']['Q3'].mean())\n",
    "print('On average, females dont think classmate support causes you to perform poorly in a course')"
   ]
  },
  {
   "cell_type": "markdown",
   "metadata": {},
   "source": [
    "###### Hypothesis: females dont value support from classmates compared to males"
   ]
  },
  {
   "cell_type": "code",
   "execution_count": 37,
   "metadata": {},
   "outputs": [
    {
     "name": "stdout",
     "output_type": "stream",
     "text": [
      "Average for STEM majors:  -0.2\n",
      "Average for NON-STEM majors:  0.05\n",
      "On average, STEM majors dont think classmate support is important to not perform poorly\n"
     ]
    }
   ],
   "source": [
    "print('Average for STEM majors: ',df_stem[df_stem['Major'] == 'STEM']['Q3'].mean())\n",
    "print('Average for NON-STEM majors: ',df_stem[df_stem['Major'] == 'NONSTEM']['Q3'].mean())\n",
    "print('On average, STEM majors dont think classmate support is important to not perform poorly')"
   ]
  },
  {
   "cell_type": "markdown",
   "metadata": {},
   "source": [
    "###### Hypothesis: STEM majors tend to not value support from classmates for performance in a course more than NON-STEM majors"
   ]
  },
  {
   "cell_type": "code",
   "execution_count": 38,
   "metadata": {},
   "outputs": [
    {
     "data": {
      "text/html": [
       "<table class=\"simpletable\">\n",
       "<caption>OLS Regression Results</caption>\n",
       "<tr>\n",
       "  <th>Dep. Variable:</th>           <td>Q3</td>        <th>  R-squared:         </th> <td>   0.015</td>\n",
       "</tr>\n",
       "<tr>\n",
       "  <th>Model:</th>                   <td>OLS</td>       <th>  Adj. R-squared:    </th> <td>  -0.004</td>\n",
       "</tr>\n",
       "<tr>\n",
       "  <th>Method:</th>             <td>Least Squares</td>  <th>  F-statistic:       </th> <td>  0.7809</td>\n",
       "</tr>\n",
       "<tr>\n",
       "  <th>Date:</th>             <td>Mon, 09 Mar 2020</td> <th>  Prob (F-statistic):</th>  <td> 0.381</td> \n",
       "</tr>\n",
       "<tr>\n",
       "  <th>Time:</th>                 <td>01:55:09</td>     <th>  Log-Likelihood:    </th> <td> -79.114</td>\n",
       "</tr>\n",
       "<tr>\n",
       "  <th>No. Observations:</th>      <td>    52</td>      <th>  AIC:               </th> <td>   162.2</td>\n",
       "</tr>\n",
       "<tr>\n",
       "  <th>Df Residuals:</th>          <td>    50</td>      <th>  BIC:               </th> <td>   166.1</td>\n",
       "</tr>\n",
       "<tr>\n",
       "  <th>Df Model:</th>              <td>     1</td>      <th>                     </th>     <td> </td>   \n",
       "</tr>\n",
       "<tr>\n",
       "  <th>Covariance Type:</th>      <td>nonrobust</td>    <th>                     </th>     <td> </td>   \n",
       "</tr>\n",
       "</table>\n",
       "<table class=\"simpletable\">\n",
       "<tr>\n",
       "      <td></td>         <th>coef</th>     <th>std err</th>      <th>t</th>      <th>P>|t|</th>  <th>[0.025</th>    <th>0.975]</th>  \n",
       "</tr>\n",
       "<tr>\n",
       "  <th>Intercept</th> <td>   -1.1108</td> <td>    1.202</td> <td>   -0.924</td> <td> 0.360</td> <td>   -3.525</td> <td>    1.303</td>\n",
       "</tr>\n",
       "<tr>\n",
       "  <th>GPA</th>       <td>    0.3046</td> <td>    0.345</td> <td>    0.884</td> <td> 0.381</td> <td>   -0.388</td> <td>    0.997</td>\n",
       "</tr>\n",
       "</table>\n",
       "<table class=\"simpletable\">\n",
       "<tr>\n",
       "  <th>Omnibus:</th>       <td> 2.239</td> <th>  Durbin-Watson:     </th> <td>   1.843</td>\n",
       "</tr>\n",
       "<tr>\n",
       "  <th>Prob(Omnibus):</th> <td> 0.326</td> <th>  Jarque-Bera (JB):  </th> <td>   1.458</td>\n",
       "</tr>\n",
       "<tr>\n",
       "  <th>Skew:</th>          <td> 0.143</td> <th>  Prob(JB):          </th> <td>   0.482</td>\n",
       "</tr>\n",
       "<tr>\n",
       "  <th>Kurtosis:</th>      <td> 2.231</td> <th>  Cond. No.          </th> <td>    28.9</td>\n",
       "</tr>\n",
       "</table><br/><br/>Warnings:<br/>[1] Standard Errors assume that the covariance matrix of the errors is correctly specified."
      ],
      "text/plain": [
       "<class 'statsmodels.iolib.summary.Summary'>\n",
       "\"\"\"\n",
       "                            OLS Regression Results                            \n",
       "==============================================================================\n",
       "Dep. Variable:                     Q3   R-squared:                       0.015\n",
       "Model:                            OLS   Adj. R-squared:                 -0.004\n",
       "Method:                 Least Squares   F-statistic:                    0.7809\n",
       "Date:                Mon, 09 Mar 2020   Prob (F-statistic):              0.381\n",
       "Time:                        01:55:09   Log-Likelihood:                -79.114\n",
       "No. Observations:                  52   AIC:                             162.2\n",
       "Df Residuals:                      50   BIC:                             166.1\n",
       "Df Model:                           1                                         \n",
       "Covariance Type:            nonrobust                                         \n",
       "==============================================================================\n",
       "                 coef    std err          t      P>|t|      [0.025      0.975]\n",
       "------------------------------------------------------------------------------\n",
       "Intercept     -1.1108      1.202     -0.924      0.360      -3.525       1.303\n",
       "GPA            0.3046      0.345      0.884      0.381      -0.388       0.997\n",
       "==============================================================================\n",
       "Omnibus:                        2.239   Durbin-Watson:                   1.843\n",
       "Prob(Omnibus):                  0.326   Jarque-Bera (JB):                1.458\n",
       "Skew:                           0.143   Prob(JB):                        0.482\n",
       "Kurtosis:                       2.231   Cond. No.                         28.9\n",
       "==============================================================================\n",
       "\n",
       "Warnings:\n",
       "[1] Standard Errors assume that the covariance matrix of the errors is correctly specified.\n",
       "\"\"\""
      ]
     },
     "execution_count": 38,
     "metadata": {},
     "output_type": "execute_result"
    }
   ],
   "source": [
    "outcome, predictors = patsy.dmatrices('Q3 ~ GPA',df)\n",
    "mod = sm.OLS(outcome,predictors)\n",
    "res = mod.fit()\n",
    "res.summary()"
   ]
  },
  {
   "cell_type": "code",
   "execution_count": 39,
   "metadata": {},
   "outputs": [
    {
     "data": {
      "text/html": [
       "<table class=\"simpletable\">\n",
       "<caption>OLS Regression Results</caption>\n",
       "<tr>\n",
       "  <th>Dep. Variable:</th>           <td>Q3</td>        <th>  R-squared:         </th> <td>   0.000</td>\n",
       "</tr>\n",
       "<tr>\n",
       "  <th>Model:</th>                   <td>OLS</td>       <th>  Adj. R-squared:    </th> <td>  -0.021</td>\n",
       "</tr>\n",
       "<tr>\n",
       "  <th>Method:</th>             <td>Least Squares</td>  <th>  F-statistic:       </th> <td> 0.01341</td>\n",
       "</tr>\n",
       "<tr>\n",
       "  <th>Date:</th>             <td>Mon, 09 Mar 2020</td> <th>  Prob (F-statistic):</th>  <td> 0.908</td> \n",
       "</tr>\n",
       "<tr>\n",
       "  <th>Time:</th>                 <td>01:55:09</td>     <th>  Log-Likelihood:    </th> <td> -75.903</td>\n",
       "</tr>\n",
       "<tr>\n",
       "  <th>No. Observations:</th>      <td>    50</td>      <th>  AIC:               </th> <td>   155.8</td>\n",
       "</tr>\n",
       "<tr>\n",
       "  <th>Df Residuals:</th>          <td>    48</td>      <th>  BIC:               </th> <td>   159.6</td>\n",
       "</tr>\n",
       "<tr>\n",
       "  <th>Df Model:</th>              <td>     1</td>      <th>                     </th>     <td> </td>   \n",
       "</tr>\n",
       "<tr>\n",
       "  <th>Covariance Type:</th>      <td>nonrobust</td>    <th>                     </th>     <td> </td>   \n",
       "</tr>\n",
       "</table>\n",
       "<table class=\"simpletable\">\n",
       "<tr>\n",
       "         <td></td>           <th>coef</th>     <th>std err</th>      <th>t</th>      <th>P>|t|</th>  <th>[0.025</th>    <th>0.975]</th>  \n",
       "</tr>\n",
       "<tr>\n",
       "  <th>Intercept</th>      <td>   -0.0370</td> <td>    0.217</td> <td>   -0.171</td> <td> 0.865</td> <td>   -0.473</td> <td>    0.399</td>\n",
       "</tr>\n",
       "<tr>\n",
       "  <th>Gender[T.Male]</th> <td>    0.0370</td> <td>    0.320</td> <td>    0.116</td> <td> 0.908</td> <td>   -0.606</td> <td>    0.680</td>\n",
       "</tr>\n",
       "</table>\n",
       "<table class=\"simpletable\">\n",
       "<tr>\n",
       "  <th>Omnibus:</th>       <td> 3.573</td> <th>  Durbin-Watson:     </th> <td>   1.565</td>\n",
       "</tr>\n",
       "<tr>\n",
       "  <th>Prob(Omnibus):</th> <td> 0.168</td> <th>  Jarque-Bera (JB):  </th> <td>   1.965</td>\n",
       "</tr>\n",
       "<tr>\n",
       "  <th>Skew:</th>          <td> 0.211</td> <th>  Prob(JB):          </th> <td>   0.374</td>\n",
       "</tr>\n",
       "<tr>\n",
       "  <th>Kurtosis:</th>      <td> 2.125</td> <th>  Cond. No.          </th> <td>    2.53</td>\n",
       "</tr>\n",
       "</table><br/><br/>Warnings:<br/>[1] Standard Errors assume that the covariance matrix of the errors is correctly specified."
      ],
      "text/plain": [
       "<class 'statsmodels.iolib.summary.Summary'>\n",
       "\"\"\"\n",
       "                            OLS Regression Results                            \n",
       "==============================================================================\n",
       "Dep. Variable:                     Q3   R-squared:                       0.000\n",
       "Model:                            OLS   Adj. R-squared:                 -0.021\n",
       "Method:                 Least Squares   F-statistic:                   0.01341\n",
       "Date:                Mon, 09 Mar 2020   Prob (F-statistic):              0.908\n",
       "Time:                        01:55:09   Log-Likelihood:                -75.903\n",
       "No. Observations:                  50   AIC:                             155.8\n",
       "Df Residuals:                      48   BIC:                             159.6\n",
       "Df Model:                           1                                         \n",
       "Covariance Type:            nonrobust                                         \n",
       "==================================================================================\n",
       "                     coef    std err          t      P>|t|      [0.025      0.975]\n",
       "----------------------------------------------------------------------------------\n",
       "Intercept         -0.0370      0.217     -0.171      0.865      -0.473       0.399\n",
       "Gender[T.Male]     0.0370      0.320      0.116      0.908      -0.606       0.680\n",
       "==============================================================================\n",
       "Omnibus:                        3.573   Durbin-Watson:                   1.565\n",
       "Prob(Omnibus):                  0.168   Jarque-Bera (JB):                1.965\n",
       "Skew:                           0.211   Prob(JB):                        0.374\n",
       "Kurtosis:                       2.125   Cond. No.                         2.53\n",
       "==============================================================================\n",
       "\n",
       "Warnings:\n",
       "[1] Standard Errors assume that the covariance matrix of the errors is correctly specified.\n",
       "\"\"\""
      ]
     },
     "execution_count": 39,
     "metadata": {},
     "output_type": "execute_result"
    }
   ],
   "source": [
    "outcome, predictors = patsy.dmatrices('Q3 ~ Gender',df_gender)\n",
    "mod = sm.OLS(outcome,predictors)\n",
    "res = mod.fit()\n",
    "res.summary()"
   ]
  },
  {
   "cell_type": "code",
   "execution_count": 40,
   "metadata": {},
   "outputs": [
    {
     "data": {
      "text/html": [
       "<table class=\"simpletable\">\n",
       "<caption>OLS Regression Results</caption>\n",
       "<tr>\n",
       "  <th>Dep. Variable:</th>           <td>Q3</td>        <th>  R-squared:         </th> <td>   0.012</td>\n",
       "</tr>\n",
       "<tr>\n",
       "  <th>Model:</th>                   <td>OLS</td>       <th>  Adj. R-squared:    </th> <td>  -0.008</td>\n",
       "</tr>\n",
       "<tr>\n",
       "  <th>Method:</th>             <td>Least Squares</td>  <th>  F-statistic:       </th> <td>  0.6025</td>\n",
       "</tr>\n",
       "<tr>\n",
       "  <th>Date:</th>             <td>Mon, 09 Mar 2020</td> <th>  Prob (F-statistic):</th>  <td> 0.441</td> \n",
       "</tr>\n",
       "<tr>\n",
       "  <th>Time:</th>                 <td>01:55:09</td>     <th>  Log-Likelihood:    </th> <td> -75.401</td>\n",
       "</tr>\n",
       "<tr>\n",
       "  <th>No. Observations:</th>      <td>    50</td>      <th>  AIC:               </th> <td>   154.8</td>\n",
       "</tr>\n",
       "<tr>\n",
       "  <th>Df Residuals:</th>          <td>    48</td>      <th>  BIC:               </th> <td>   158.6</td>\n",
       "</tr>\n",
       "<tr>\n",
       "  <th>Df Model:</th>              <td>     1</td>      <th>                     </th>     <td> </td>   \n",
       "</tr>\n",
       "<tr>\n",
       "  <th>Covariance Type:</th>      <td>nonrobust</td>    <th>                     </th>     <td> </td>   \n",
       "</tr>\n",
       "</table>\n",
       "<table class=\"simpletable\">\n",
       "<tr>\n",
       "        <td></td>           <th>coef</th>     <th>std err</th>      <th>t</th>      <th>P>|t|</th>  <th>[0.025</th>    <th>0.975]</th>  \n",
       "</tr>\n",
       "<tr>\n",
       "  <th>Intercept</th>     <td>    0.0500</td> <td>    0.249</td> <td>    0.200</td> <td> 0.842</td> <td>   -0.452</td> <td>    0.552</td>\n",
       "</tr>\n",
       "<tr>\n",
       "  <th>Major[T.STEM]</th> <td>   -0.2500</td> <td>    0.322</td> <td>   -0.776</td> <td> 0.441</td> <td>   -0.898</td> <td>    0.398</td>\n",
       "</tr>\n",
       "</table>\n",
       "<table class=\"simpletable\">\n",
       "<tr>\n",
       "  <th>Omnibus:</th>       <td> 3.075</td> <th>  Durbin-Watson:     </th> <td>   1.745</td>\n",
       "</tr>\n",
       "<tr>\n",
       "  <th>Prob(Omnibus):</th> <td> 0.215</td> <th>  Jarque-Bera (JB):  </th> <td>   2.012</td>\n",
       "</tr>\n",
       "<tr>\n",
       "  <th>Skew:</th>          <td> 0.281</td> <th>  Prob(JB):          </th> <td>   0.366</td>\n",
       "</tr>\n",
       "<tr>\n",
       "  <th>Kurtosis:</th>      <td> 2.194</td> <th>  Cond. No.          </th> <td>    2.92</td>\n",
       "</tr>\n",
       "</table><br/><br/>Warnings:<br/>[1] Standard Errors assume that the covariance matrix of the errors is correctly specified."
      ],
      "text/plain": [
       "<class 'statsmodels.iolib.summary.Summary'>\n",
       "\"\"\"\n",
       "                            OLS Regression Results                            \n",
       "==============================================================================\n",
       "Dep. Variable:                     Q3   R-squared:                       0.012\n",
       "Model:                            OLS   Adj. R-squared:                 -0.008\n",
       "Method:                 Least Squares   F-statistic:                    0.6025\n",
       "Date:                Mon, 09 Mar 2020   Prob (F-statistic):              0.441\n",
       "Time:                        01:55:09   Log-Likelihood:                -75.401\n",
       "No. Observations:                  50   AIC:                             154.8\n",
       "Df Residuals:                      48   BIC:                             158.6\n",
       "Df Model:                           1                                         \n",
       "Covariance Type:            nonrobust                                         \n",
       "=================================================================================\n",
       "                    coef    std err          t      P>|t|      [0.025      0.975]\n",
       "---------------------------------------------------------------------------------\n",
       "Intercept         0.0500      0.249      0.200      0.842      -0.452       0.552\n",
       "Major[T.STEM]    -0.2500      0.322     -0.776      0.441      -0.898       0.398\n",
       "==============================================================================\n",
       "Omnibus:                        3.075   Durbin-Watson:                   1.745\n",
       "Prob(Omnibus):                  0.215   Jarque-Bera (JB):                2.012\n",
       "Skew:                           0.281   Prob(JB):                        0.366\n",
       "Kurtosis:                       2.194   Cond. No.                         2.92\n",
       "==============================================================================\n",
       "\n",
       "Warnings:\n",
       "[1] Standard Errors assume that the covariance matrix of the errors is correctly specified.\n",
       "\"\"\""
      ]
     },
     "execution_count": 40,
     "metadata": {},
     "output_type": "execute_result"
    }
   ],
   "source": [
    "outcome, predictors = patsy.dmatrices('Q3 ~ Major',df_stem)\n",
    "mod = sm.OLS(outcome,predictors)\n",
    "res = mod.fit()\n",
    "res.summary()"
   ]
  },
  {
   "cell_type": "code",
   "execution_count": 41,
   "metadata": {},
   "outputs": [
    {
     "data": {
      "text/html": [
       "<table class=\"simpletable\">\n",
       "<caption>OLS Regression Results</caption>\n",
       "<tr>\n",
       "  <th>Dep. Variable:</th>           <td>Q3</td>        <th>  R-squared:         </th> <td>   0.009</td>\n",
       "</tr>\n",
       "<tr>\n",
       "  <th>Model:</th>                   <td>OLS</td>       <th>  Adj. R-squared:    </th> <td>  -0.059</td>\n",
       "</tr>\n",
       "<tr>\n",
       "  <th>Method:</th>             <td>Least Squares</td>  <th>  F-statistic:       </th> <td>  0.1281</td>\n",
       "</tr>\n",
       "<tr>\n",
       "  <th>Date:</th>             <td>Mon, 09 Mar 2020</td> <th>  Prob (F-statistic):</th>  <td> 0.943</td> \n",
       "</tr>\n",
       "<tr>\n",
       "  <th>Time:</th>                 <td>01:55:09</td>     <th>  Log-Likelihood:    </th> <td> -71.946</td>\n",
       "</tr>\n",
       "<tr>\n",
       "  <th>No. Observations:</th>      <td>    48</td>      <th>  AIC:               </th> <td>   151.9</td>\n",
       "</tr>\n",
       "<tr>\n",
       "  <th>Df Residuals:</th>          <td>    44</td>      <th>  BIC:               </th> <td>   159.4</td>\n",
       "</tr>\n",
       "<tr>\n",
       "  <th>Df Model:</th>              <td>     3</td>      <th>                     </th>     <td> </td>   \n",
       "</tr>\n",
       "<tr>\n",
       "  <th>Covariance Type:</th>      <td>nonrobust</td>    <th>                     </th>     <td> </td>   \n",
       "</tr>\n",
       "</table>\n",
       "<table class=\"simpletable\">\n",
       "<tr>\n",
       "         <td></td>           <th>coef</th>     <th>std err</th>      <th>t</th>      <th>P>|t|</th>  <th>[0.025</th>    <th>0.975]</th>  \n",
       "</tr>\n",
       "<tr>\n",
       "  <th>Intercept</th>      <td>    0.0877</td> <td>    0.310</td> <td>    0.283</td> <td> 0.778</td> <td>   -0.536</td> <td>    0.712</td>\n",
       "</tr>\n",
       "<tr>\n",
       "  <th>GPA[T.LOW]</th>     <td>   -0.0331</td> <td>    0.340</td> <td>   -0.097</td> <td> 0.923</td> <td>   -0.718</td> <td>    0.652</td>\n",
       "</tr>\n",
       "<tr>\n",
       "  <th>Major[T.STEM]</th>  <td>   -0.1919</td> <td>    0.332</td> <td>   -0.578</td> <td> 0.566</td> <td>   -0.861</td> <td>    0.478</td>\n",
       "</tr>\n",
       "<tr>\n",
       "  <th>Gender[T.Male]</th> <td>   -0.0544</td> <td>    0.339</td> <td>   -0.160</td> <td> 0.873</td> <td>   -0.738</td> <td>    0.629</td>\n",
       "</tr>\n",
       "</table>\n",
       "<table class=\"simpletable\">\n",
       "<tr>\n",
       "  <th>Omnibus:</th>       <td> 3.128</td> <th>  Durbin-Watson:     </th> <td>   1.645</td>\n",
       "</tr>\n",
       "<tr>\n",
       "  <th>Prob(Omnibus):</th> <td> 0.209</td> <th>  Jarque-Bera (JB):  </th> <td>   2.037</td>\n",
       "</tr>\n",
       "<tr>\n",
       "  <th>Skew:</th>          <td> 0.294</td> <th>  Prob(JB):          </th> <td>   0.361</td>\n",
       "</tr>\n",
       "<tr>\n",
       "  <th>Kurtosis:</th>      <td> 2.180</td> <th>  Cond. No.          </th> <td>    3.55</td>\n",
       "</tr>\n",
       "</table><br/><br/>Warnings:<br/>[1] Standard Errors assume that the covariance matrix of the errors is correctly specified."
      ],
      "text/plain": [
       "<class 'statsmodels.iolib.summary.Summary'>\n",
       "\"\"\"\n",
       "                            OLS Regression Results                            \n",
       "==============================================================================\n",
       "Dep. Variable:                     Q3   R-squared:                       0.009\n",
       "Model:                            OLS   Adj. R-squared:                 -0.059\n",
       "Method:                 Least Squares   F-statistic:                    0.1281\n",
       "Date:                Mon, 09 Mar 2020   Prob (F-statistic):              0.943\n",
       "Time:                        01:55:09   Log-Likelihood:                -71.946\n",
       "No. Observations:                  48   AIC:                             151.9\n",
       "Df Residuals:                      44   BIC:                             159.4\n",
       "Df Model:                           3                                         \n",
       "Covariance Type:            nonrobust                                         \n",
       "==================================================================================\n",
       "                     coef    std err          t      P>|t|      [0.025      0.975]\n",
       "----------------------------------------------------------------------------------\n",
       "Intercept          0.0877      0.310      0.283      0.778      -0.536       0.712\n",
       "GPA[T.LOW]        -0.0331      0.340     -0.097      0.923      -0.718       0.652\n",
       "Major[T.STEM]     -0.1919      0.332     -0.578      0.566      -0.861       0.478\n",
       "Gender[T.Male]    -0.0544      0.339     -0.160      0.873      -0.738       0.629\n",
       "==============================================================================\n",
       "Omnibus:                        3.128   Durbin-Watson:                   1.645\n",
       "Prob(Omnibus):                  0.209   Jarque-Bera (JB):                2.037\n",
       "Skew:                           0.294   Prob(JB):                        0.361\n",
       "Kurtosis:                       2.180   Cond. No.                         3.55\n",
       "==============================================================================\n",
       "\n",
       "Warnings:\n",
       "[1] Standard Errors assume that the covariance matrix of the errors is correctly specified.\n",
       "\"\"\""
      ]
     },
     "execution_count": 41,
     "metadata": {},
     "output_type": "execute_result"
    }
   ],
   "source": [
    "outcome, predictors = patsy.dmatrices('Q3 ~ GPA + Major + Gender',df_all)\n",
    "mod = sm.OLS(outcome,predictors)\n",
    "res = mod.fit()\n",
    "res.summary()"
   ]
  },
  {
   "cell_type": "markdown",
   "metadata": {},
   "source": [
    "###### Overall, you can see that from the data, that none of the hypotheses are supported for this question that asks if classmate support is important for performance on a course based on the p-values, but the best predictor tends to be major, either STEM or non-STEM when compared to the rest"
   ]
  },
  {
   "cell_type": "markdown",
   "metadata": {},
   "source": [
    "## Q4: \"Consulting outside sources to re-study topics about course material is more important than relying on resources provided by the class itself\""
   ]
  },
  {
   "cell_type": "code",
   "execution_count": 42,
   "metadata": {},
   "outputs": [
    {
     "data": {
      "image/png": "[encoded data removed]",
      "text/plain": [
       "<Figure size 432x288 with 1 Axes>"
      ]
     },
     "metadata": {
      "needs_background": "light"
     },
     "output_type": "display_data"
    }
   ],
   "source": [
    "df['Q4'].value_counts().plot(kind='bar')\n",
    "plt.xlabel(\"Response\")\n",
    "plt.ylabel(\"Person Count\")\n",
    "plt.show()"
   ]
  },
  {
   "cell_type": "code",
   "execution_count": 43,
   "metadata": {},
   "outputs": [
    {
     "name": "stdout",
     "output_type": "stream",
     "text": [
      "Average for people with GPA 3.5 or above:  0.3103448275862069\n",
      "Average for people with GPA below 3.5  -0.13043478260869565\n",
      "On average, people with higher GPAs think that outside resources are more important than class resources\n"
     ]
    }
   ],
   "source": [
    "print('Average for people with GPA 3.5 or above: ',df[df['GPA'] >= 3.5]['Q4'].mean())\n",
    "print('Average for people with GPA below 3.5 ',df[df['GPA'] < 3.5]['Q4'].mean())\n",
    "print('On average, people with higher GPAs think that outside resources are more important than class resources')"
   ]
  },
  {
   "cell_type": "markdown",
   "metadata": {},
   "source": [
    "###### Hypothesis: People with higher GPAs try to not rely on just class resources when compared to people with lower GPAs"
   ]
  },
  {
   "cell_type": "code",
   "execution_count": 44,
   "metadata": {},
   "outputs": [
    {
     "name": "stdout",
     "output_type": "stream",
     "text": [
      "Average for Males:  0.43478260869565216\n",
      "Average for Females majors:  -0.14814814814814814\n",
      "On average, males believe that outside resources are more important than class resources\n"
     ]
    }
   ],
   "source": [
    "print('Average for Males: ',df[df['Gender'] == 'Male']['Q4'].mean())\n",
    "print('Average for Females majors: ',df[df['Gender'] == 'Female']['Q4'].mean())\n",
    "print('On average, males believe that outside resources are more important than class resources')"
   ]
  },
  {
   "cell_type": "markdown",
   "metadata": {},
   "source": [
    "###### Hypothesis: Males tend to consult more outside resources rather than sticking to class resources when compared to females"
   ]
  },
  {
   "cell_type": "code",
   "execution_count": 45,
   "metadata": {},
   "outputs": [
    {
     "name": "stdout",
     "output_type": "stream",
     "text": [
      "Average for STEM majors:  0.13333333333333333\n",
      "Average for NON-STEM majors:  0.1\n",
      "On average, STEM majors dont think classmate support is important to not perform poorly\n"
     ]
    }
   ],
   "source": [
    "print('Average for STEM majors: ',df_stem[df_stem['Major'] == 'STEM']['Q4'].mean())\n",
    "print('Average for NON-STEM majors: ',df_stem[df_stem['Major'] == 'NONSTEM']['Q4'].mean())\n",
    "print('On average, STEM majors dont think classmate support is important to not perform poorly')"
   ]
  },
  {
   "cell_type": "markdown",
   "metadata": {},
   "source": [
    "###### Hypothesis: STEM majors tend to consult more outside resources rather than sticking to class resources when compared to non-STEM majors"
   ]
  },
  {
   "cell_type": "code",
   "execution_count": 46,
   "metadata": {},
   "outputs": [
    {
     "data": {
      "text/html": [
       "<table class=\"simpletable\">\n",
       "<caption>OLS Regression Results</caption>\n",
       "<tr>\n",
       "  <th>Dep. Variable:</th>           <td>Q4</td>        <th>  R-squared:         </th> <td>   0.016</td>\n",
       "</tr>\n",
       "<tr>\n",
       "  <th>Model:</th>                   <td>OLS</td>       <th>  Adj. R-squared:    </th> <td>  -0.003</td>\n",
       "</tr>\n",
       "<tr>\n",
       "  <th>Method:</th>             <td>Least Squares</td>  <th>  F-statistic:       </th> <td>  0.8371</td>\n",
       "</tr>\n",
       "<tr>\n",
       "  <th>Date:</th>             <td>Mon, 09 Mar 2020</td> <th>  Prob (F-statistic):</th>  <td> 0.365</td> \n",
       "</tr>\n",
       "<tr>\n",
       "  <th>Time:</th>                 <td>01:55:09</td>     <th>  Log-Likelihood:    </th> <td> -71.971</td>\n",
       "</tr>\n",
       "<tr>\n",
       "  <th>No. Observations:</th>      <td>    52</td>      <th>  AIC:               </th> <td>   147.9</td>\n",
       "</tr>\n",
       "<tr>\n",
       "  <th>Df Residuals:</th>          <td>    50</td>      <th>  BIC:               </th> <td>   151.8</td>\n",
       "</tr>\n",
       "<tr>\n",
       "  <th>Df Model:</th>              <td>     1</td>      <th>                     </th>     <td> </td>   \n",
       "</tr>\n",
       "<tr>\n",
       "  <th>Covariance Type:</th>      <td>nonrobust</td>    <th>                     </th>     <td> </td>   \n",
       "</tr>\n",
       "</table>\n",
       "<table class=\"simpletable\">\n",
       "<tr>\n",
       "      <td></td>         <th>coef</th>     <th>std err</th>      <th>t</th>      <th>P>|t|</th>  <th>[0.025</th>    <th>0.975]</th>  \n",
       "</tr>\n",
       "<tr>\n",
       "  <th>Intercept</th> <td>   -0.8350</td> <td>    1.048</td> <td>   -0.797</td> <td> 0.429</td> <td>   -2.939</td> <td>    1.269</td>\n",
       "</tr>\n",
       "<tr>\n",
       "  <th>GPA</th>       <td>    0.2749</td> <td>    0.300</td> <td>    0.915</td> <td> 0.365</td> <td>   -0.329</td> <td>    0.878</td>\n",
       "</tr>\n",
       "</table>\n",
       "<table class=\"simpletable\">\n",
       "<tr>\n",
       "  <th>Omnibus:</th>       <td> 0.293</td> <th>  Durbin-Watson:     </th> <td>   1.506</td>\n",
       "</tr>\n",
       "<tr>\n",
       "  <th>Prob(Omnibus):</th> <td> 0.864</td> <th>  Jarque-Bera (JB):  </th> <td>   0.339</td>\n",
       "</tr>\n",
       "<tr>\n",
       "  <th>Skew:</th>          <td>-0.166</td> <th>  Prob(JB):          </th> <td>   0.844</td>\n",
       "</tr>\n",
       "<tr>\n",
       "  <th>Kurtosis:</th>      <td> 2.785</td> <th>  Cond. No.          </th> <td>    28.9</td>\n",
       "</tr>\n",
       "</table><br/><br/>Warnings:<br/>[1] Standard Errors assume that the covariance matrix of the errors is correctly specified."
      ],
      "text/plain": [
       "<class 'statsmodels.iolib.summary.Summary'>\n",
       "\"\"\"\n",
       "                            OLS Regression Results                            \n",
       "==============================================================================\n",
       "Dep. Variable:                     Q4   R-squared:                       0.016\n",
       "Model:                            OLS   Adj. R-squared:                 -0.003\n",
       "Method:                 Least Squares   F-statistic:                    0.8371\n",
       "Date:                Mon, 09 Mar 2020   Prob (F-statistic):              0.365\n",
       "Time:                        01:55:09   Log-Likelihood:                -71.971\n",
       "No. Observations:                  52   AIC:                             147.9\n",
       "Df Residuals:                      50   BIC:                             151.8\n",
       "Df Model:                           1                                         \n",
       "Covariance Type:            nonrobust                                         \n",
       "==============================================================================\n",
       "                 coef    std err          t      P>|t|      [0.025      0.975]\n",
       "------------------------------------------------------------------------------\n",
       "Intercept     -0.8350      1.048     -0.797      0.429      -2.939       1.269\n",
       "GPA            0.2749      0.300      0.915      0.365      -0.329       0.878\n",
       "==============================================================================\n",
       "Omnibus:                        0.293   Durbin-Watson:                   1.506\n",
       "Prob(Omnibus):                  0.864   Jarque-Bera (JB):                0.339\n",
       "Skew:                          -0.166   Prob(JB):                        0.844\n",
       "Kurtosis:                       2.785   Cond. No.                         28.9\n",
       "==============================================================================\n",
       "\n",
       "Warnings:\n",
       "[1] Standard Errors assume that the covariance matrix of the errors is correctly specified.\n",
       "\"\"\""
      ]
     },
     "execution_count": 46,
     "metadata": {},
     "output_type": "execute_result"
    }
   ],
   "source": [
    "outcome, predictors = patsy.dmatrices('Q4 ~ GPA',df)\n",
    "mod = sm.OLS(outcome,predictors)\n",
    "res = mod.fit()\n",
    "res.summary()"
   ]
  },
  {
   "cell_type": "code",
   "execution_count": 47,
   "metadata": {},
   "outputs": [
    {
     "data": {
      "text/html": [
       "<table class=\"simpletable\">\n",
       "<caption>OLS Regression Results</caption>\n",
       "<tr>\n",
       "  <th>Dep. Variable:</th>           <td>Q4</td>        <th>  R-squared:         </th> <td>   0.102</td>\n",
       "</tr>\n",
       "<tr>\n",
       "  <th>Model:</th>                   <td>OLS</td>       <th>  Adj. R-squared:    </th> <td>   0.084</td>\n",
       "</tr>\n",
       "<tr>\n",
       "  <th>Method:</th>             <td>Least Squares</td>  <th>  F-statistic:       </th> <td>   5.466</td>\n",
       "</tr>\n",
       "<tr>\n",
       "  <th>Date:</th>             <td>Mon, 09 Mar 2020</td> <th>  Prob (F-statistic):</th>  <td>0.0236</td> \n",
       "</tr>\n",
       "<tr>\n",
       "  <th>Time:</th>                 <td>01:55:09</td>     <th>  Log-Likelihood:    </th> <td> -63.460</td>\n",
       "</tr>\n",
       "<tr>\n",
       "  <th>No. Observations:</th>      <td>    50</td>      <th>  AIC:               </th> <td>   130.9</td>\n",
       "</tr>\n",
       "<tr>\n",
       "  <th>Df Residuals:</th>          <td>    48</td>      <th>  BIC:               </th> <td>   134.7</td>\n",
       "</tr>\n",
       "<tr>\n",
       "  <th>Df Model:</th>              <td>     1</td>      <th>                     </th>     <td> </td>   \n",
       "</tr>\n",
       "<tr>\n",
       "  <th>Covariance Type:</th>      <td>nonrobust</td>    <th>                     </th>     <td> </td>   \n",
       "</tr>\n",
       "</table>\n",
       "<table class=\"simpletable\">\n",
       "<tr>\n",
       "         <td></td>           <th>coef</th>     <th>std err</th>      <th>t</th>      <th>P>|t|</th>  <th>[0.025</th>    <th>0.975]</th>  \n",
       "</tr>\n",
       "<tr>\n",
       "  <th>Intercept</th>      <td>   -0.1481</td> <td>    0.169</td> <td>   -0.876</td> <td> 0.385</td> <td>   -0.488</td> <td>    0.192</td>\n",
       "</tr>\n",
       "<tr>\n",
       "  <th>Gender[T.Male]</th> <td>    0.5829</td> <td>    0.249</td> <td>    2.338</td> <td> 0.024</td> <td>    0.082</td> <td>    1.084</td>\n",
       "</tr>\n",
       "</table>\n",
       "<table class=\"simpletable\">\n",
       "<tr>\n",
       "  <th>Omnibus:</th>       <td> 0.119</td> <th>  Durbin-Watson:     </th> <td>   1.519</td>\n",
       "</tr>\n",
       "<tr>\n",
       "  <th>Prob(Omnibus):</th> <td> 0.942</td> <th>  Jarque-Bera (JB):  </th> <td>   0.098</td>\n",
       "</tr>\n",
       "<tr>\n",
       "  <th>Skew:</th>          <td> 0.088</td> <th>  Prob(JB):          </th> <td>   0.952</td>\n",
       "</tr>\n",
       "<tr>\n",
       "  <th>Kurtosis:</th>      <td> 2.872</td> <th>  Cond. No.          </th> <td>    2.53</td>\n",
       "</tr>\n",
       "</table><br/><br/>Warnings:<br/>[1] Standard Errors assume that the covariance matrix of the errors is correctly specified."
      ],
      "text/plain": [
       "<class 'statsmodels.iolib.summary.Summary'>\n",
       "\"\"\"\n",
       "                            OLS Regression Results                            \n",
       "==============================================================================\n",
       "Dep. Variable:                     Q4   R-squared:                       0.102\n",
       "Model:                            OLS   Adj. R-squared:                  0.084\n",
       "Method:                 Least Squares   F-statistic:                     5.466\n",
       "Date:                Mon, 09 Mar 2020   Prob (F-statistic):             0.0236\n",
       "Time:                        01:55:09   Log-Likelihood:                -63.460\n",
       "No. Observations:                  50   AIC:                             130.9\n",
       "Df Residuals:                      48   BIC:                             134.7\n",
       "Df Model:                           1                                         \n",
       "Covariance Type:            nonrobust                                         \n",
       "==================================================================================\n",
       "                     coef    std err          t      P>|t|      [0.025      0.975]\n",
       "----------------------------------------------------------------------------------\n",
       "Intercept         -0.1481      0.169     -0.876      0.385      -0.488       0.192\n",
       "Gender[T.Male]     0.5829      0.249      2.338      0.024       0.082       1.084\n",
       "==============================================================================\n",
       "Omnibus:                        0.119   Durbin-Watson:                   1.519\n",
       "Prob(Omnibus):                  0.942   Jarque-Bera (JB):                0.098\n",
       "Skew:                           0.088   Prob(JB):                        0.952\n",
       "Kurtosis:                       2.872   Cond. No.                         2.53\n",
       "==============================================================================\n",
       "\n",
       "Warnings:\n",
       "[1] Standard Errors assume that the covariance matrix of the errors is correctly specified.\n",
       "\"\"\""
      ]
     },
     "execution_count": 47,
     "metadata": {},
     "output_type": "execute_result"
    }
   ],
   "source": [
    "outcome, predictors = patsy.dmatrices('Q4 ~ Gender',df_gender)\n",
    "mod = sm.OLS(outcome,predictors)\n",
    "res = mod.fit()\n",
    "res.summary()"
   ]
  },
  {
   "cell_type": "code",
   "execution_count": 48,
   "metadata": {},
   "outputs": [
    {
     "data": {
      "text/html": [
       "<table class=\"simpletable\">\n",
       "<caption>OLS Regression Results</caption>\n",
       "<tr>\n",
       "  <th>Dep. Variable:</th>           <td>Q4</td>        <th>  R-squared:         </th> <td>   0.000</td>\n",
       "</tr>\n",
       "<tr>\n",
       "  <th>Model:</th>                   <td>OLS</td>       <th>  Adj. R-squared:    </th> <td>  -0.021</td>\n",
       "</tr>\n",
       "<tr>\n",
       "  <th>Method:</th>             <td>Least Squares</td>  <th>  F-statistic:       </th> <td> 0.01299</td>\n",
       "</tr>\n",
       "<tr>\n",
       "  <th>Date:</th>             <td>Mon, 09 Mar 2020</td> <th>  Prob (F-statistic):</th>  <td> 0.910</td> \n",
       "</tr>\n",
       "<tr>\n",
       "  <th>Time:</th>                 <td>01:55:09</td>     <th>  Log-Likelihood:    </th> <td> -70.578</td>\n",
       "</tr>\n",
       "<tr>\n",
       "  <th>No. Observations:</th>      <td>    50</td>      <th>  AIC:               </th> <td>   145.2</td>\n",
       "</tr>\n",
       "<tr>\n",
       "  <th>Df Residuals:</th>          <td>    48</td>      <th>  BIC:               </th> <td>   149.0</td>\n",
       "</tr>\n",
       "<tr>\n",
       "  <th>Df Model:</th>              <td>     1</td>      <th>                     </th>     <td> </td>   \n",
       "</tr>\n",
       "<tr>\n",
       "  <th>Covariance Type:</th>      <td>nonrobust</td>    <th>                     </th>     <td> </td>   \n",
       "</tr>\n",
       "</table>\n",
       "<table class=\"simpletable\">\n",
       "<tr>\n",
       "        <td></td>           <th>coef</th>     <th>std err</th>      <th>t</th>      <th>P>|t|</th>  <th>[0.025</th>    <th>0.975]</th>  \n",
       "</tr>\n",
       "<tr>\n",
       "  <th>Intercept</th>     <td>    0.1000</td> <td>    0.227</td> <td>    0.441</td> <td> 0.661</td> <td>   -0.355</td> <td>    0.555</td>\n",
       "</tr>\n",
       "<tr>\n",
       "  <th>Major[T.STEM]</th> <td>    0.0333</td> <td>    0.292</td> <td>    0.114</td> <td> 0.910</td> <td>   -0.555</td> <td>    0.621</td>\n",
       "</tr>\n",
       "</table>\n",
       "<table class=\"simpletable\">\n",
       "<tr>\n",
       "  <th>Omnibus:</th>       <td> 0.173</td> <th>  Durbin-Watson:     </th> <td>   1.523</td>\n",
       "</tr>\n",
       "<tr>\n",
       "  <th>Prob(Omnibus):</th> <td> 0.917</td> <th>  Jarque-Bera (JB):  </th> <td>   0.289</td>\n",
       "</tr>\n",
       "<tr>\n",
       "  <th>Skew:</th>          <td>-0.127</td> <th>  Prob(JB):          </th> <td>   0.865</td>\n",
       "</tr>\n",
       "<tr>\n",
       "  <th>Kurtosis:</th>      <td> 2.728</td> <th>  Cond. No.          </th> <td>    2.92</td>\n",
       "</tr>\n",
       "</table><br/><br/>Warnings:<br/>[1] Standard Errors assume that the covariance matrix of the errors is correctly specified."
      ],
      "text/plain": [
       "<class 'statsmodels.iolib.summary.Summary'>\n",
       "\"\"\"\n",
       "                            OLS Regression Results                            \n",
       "==============================================================================\n",
       "Dep. Variable:                     Q4   R-squared:                       0.000\n",
       "Model:                            OLS   Adj. R-squared:                 -0.021\n",
       "Method:                 Least Squares   F-statistic:                   0.01299\n",
       "Date:                Mon, 09 Mar 2020   Prob (F-statistic):              0.910\n",
       "Time:                        01:55:09   Log-Likelihood:                -70.578\n",
       "No. Observations:                  50   AIC:                             145.2\n",
       "Df Residuals:                      48   BIC:                             149.0\n",
       "Df Model:                           1                                         \n",
       "Covariance Type:            nonrobust                                         \n",
       "=================================================================================\n",
       "                    coef    std err          t      P>|t|      [0.025      0.975]\n",
       "---------------------------------------------------------------------------------\n",
       "Intercept         0.1000      0.227      0.441      0.661      -0.355       0.555\n",
       "Major[T.STEM]     0.0333      0.292      0.114      0.910      -0.555       0.621\n",
       "==============================================================================\n",
       "Omnibus:                        0.173   Durbin-Watson:                   1.523\n",
       "Prob(Omnibus):                  0.917   Jarque-Bera (JB):                0.289\n",
       "Skew:                          -0.127   Prob(JB):                        0.865\n",
       "Kurtosis:                       2.728   Cond. No.                         2.92\n",
       "==============================================================================\n",
       "\n",
       "Warnings:\n",
       "[1] Standard Errors assume that the covariance matrix of the errors is correctly specified.\n",
       "\"\"\""
      ]
     },
     "execution_count": 48,
     "metadata": {},
     "output_type": "execute_result"
    }
   ],
   "source": [
    "outcome, predictors = patsy.dmatrices('Q4 ~ Major',df_stem)\n",
    "mod = sm.OLS(outcome,predictors)\n",
    "res = mod.fit()\n",
    "res.summary()"
   ]
  },
  {
   "cell_type": "code",
   "execution_count": 49,
   "metadata": {},
   "outputs": [
    {
     "data": {
      "text/html": [
       "<table class=\"simpletable\">\n",
       "<caption>OLS Regression Results</caption>\n",
       "<tr>\n",
       "  <th>Dep. Variable:</th>           <td>Q4</td>        <th>  R-squared:         </th> <td>   0.177</td>\n",
       "</tr>\n",
       "<tr>\n",
       "  <th>Model:</th>                   <td>OLS</td>       <th>  Adj. R-squared:    </th> <td>   0.121</td>\n",
       "</tr>\n",
       "<tr>\n",
       "  <th>Method:</th>             <td>Least Squares</td>  <th>  F-statistic:       </th> <td>   3.152</td>\n",
       "</tr>\n",
       "<tr>\n",
       "  <th>Date:</th>             <td>Mon, 09 Mar 2020</td> <th>  Prob (F-statistic):</th>  <td>0.0342</td> \n",
       "</tr>\n",
       "<tr>\n",
       "  <th>Time:</th>                 <td>01:55:09</td>     <th>  Log-Likelihood:    </th> <td> -59.799</td>\n",
       "</tr>\n",
       "<tr>\n",
       "  <th>No. Observations:</th>      <td>    48</td>      <th>  AIC:               </th> <td>   127.6</td>\n",
       "</tr>\n",
       "<tr>\n",
       "  <th>Df Residuals:</th>          <td>    44</td>      <th>  BIC:               </th> <td>   135.1</td>\n",
       "</tr>\n",
       "<tr>\n",
       "  <th>Df Model:</th>              <td>     3</td>      <th>                     </th>     <td> </td>   \n",
       "</tr>\n",
       "<tr>\n",
       "  <th>Covariance Type:</th>      <td>nonrobust</td>    <th>                     </th>     <td> </td>   \n",
       "</tr>\n",
       "</table>\n",
       "<table class=\"simpletable\">\n",
       "<tr>\n",
       "         <td></td>           <th>coef</th>     <th>std err</th>      <th>t</th>      <th>P>|t|</th>  <th>[0.025</th>    <th>0.975]</th>  \n",
       "</tr>\n",
       "<tr>\n",
       "  <th>Intercept</th>      <td>   -0.0385</td> <td>    0.240</td> <td>   -0.160</td> <td> 0.874</td> <td>   -0.523</td> <td>    0.446</td>\n",
       "</tr>\n",
       "<tr>\n",
       "  <th>GPA[T.LOW]</th>     <td>   -0.4895</td> <td>    0.264</td> <td>   -1.855</td> <td> 0.070</td> <td>   -1.021</td> <td>    0.042</td>\n",
       "</tr>\n",
       "<tr>\n",
       "  <th>Major[T.STEM]</th>  <td>    0.0902</td> <td>    0.258</td> <td>    0.350</td> <td> 0.728</td> <td>   -0.430</td> <td>    0.610</td>\n",
       "</tr>\n",
       "<tr>\n",
       "  <th>Gender[T.Male]</th> <td>    0.7428</td> <td>    0.263</td> <td>    2.821</td> <td> 0.007</td> <td>    0.212</td> <td>    1.274</td>\n",
       "</tr>\n",
       "</table>\n",
       "<table class=\"simpletable\">\n",
       "<tr>\n",
       "  <th>Omnibus:</th>       <td> 0.780</td> <th>  Durbin-Watson:     </th> <td>   1.550</td>\n",
       "</tr>\n",
       "<tr>\n",
       "  <th>Prob(Omnibus):</th> <td> 0.677</td> <th>  Jarque-Bera (JB):  </th> <td>   0.861</td>\n",
       "</tr>\n",
       "<tr>\n",
       "  <th>Skew:</th>          <td> 0.198</td> <th>  Prob(JB):          </th> <td>   0.650</td>\n",
       "</tr>\n",
       "<tr>\n",
       "  <th>Kurtosis:</th>      <td> 2.477</td> <th>  Cond. No.          </th> <td>    3.55</td>\n",
       "</tr>\n",
       "</table><br/><br/>Warnings:<br/>[1] Standard Errors assume that the covariance matrix of the errors is correctly specified."
      ],
      "text/plain": [
       "<class 'statsmodels.iolib.summary.Summary'>\n",
       "\"\"\"\n",
       "                            OLS Regression Results                            \n",
       "==============================================================================\n",
       "Dep. Variable:                     Q4   R-squared:                       0.177\n",
       "Model:                            OLS   Adj. R-squared:                  0.121\n",
       "Method:                 Least Squares   F-statistic:                     3.152\n",
       "Date:                Mon, 09 Mar 2020   Prob (F-statistic):             0.0342\n",
       "Time:                        01:55:09   Log-Likelihood:                -59.799\n",
       "No. Observations:                  48   AIC:                             127.6\n",
       "Df Residuals:                      44   BIC:                             135.1\n",
       "Df Model:                           3                                         \n",
       "Covariance Type:            nonrobust                                         \n",
       "==================================================================================\n",
       "                     coef    std err          t      P>|t|      [0.025      0.975]\n",
       "----------------------------------------------------------------------------------\n",
       "Intercept         -0.0385      0.240     -0.160      0.874      -0.523       0.446\n",
       "GPA[T.LOW]        -0.4895      0.264     -1.855      0.070      -1.021       0.042\n",
       "Major[T.STEM]      0.0902      0.258      0.350      0.728      -0.430       0.610\n",
       "Gender[T.Male]     0.7428      0.263      2.821      0.007       0.212       1.274\n",
       "==============================================================================\n",
       "Omnibus:                        0.780   Durbin-Watson:                   1.550\n",
       "Prob(Omnibus):                  0.677   Jarque-Bera (JB):                0.861\n",
       "Skew:                           0.198   Prob(JB):                        0.650\n",
       "Kurtosis:                       2.477   Cond. No.                         3.55\n",
       "==============================================================================\n",
       "\n",
       "Warnings:\n",
       "[1] Standard Errors assume that the covariance matrix of the errors is correctly specified.\n",
       "\"\"\""
      ]
     },
     "execution_count": 49,
     "metadata": {},
     "output_type": "execute_result"
    }
   ],
   "source": [
    "outcome, predictors = patsy.dmatrices('Q4 ~ GPA + Major + Gender',df_all)\n",
    "mod = sm.OLS(outcome,predictors)\n",
    "res = mod.fit()\n",
    "res.summary()"
   ]
  },
  {
   "cell_type": "markdown",
   "metadata": {},
   "source": [
    "###### Overall, you can see that from the data, that the hypotheses are not supported except for the one saying gender is an accurate predictor of whether or not one values outside resource consultation more than in class resources, this is supported by our p-value calculations, whereas major and GPA are not good predictors for this question"
   ]
  },
  {
   "cell_type": "markdown",
   "metadata": {},
   "source": [
    "## Q5: \"Strictly focusing on attaining a high Grade Point average more than anything else could hurt your relationships with others\""
   ]
  },
  {
   "cell_type": "code",
   "execution_count": 50,
   "metadata": {},
   "outputs": [
    {
     "data": {
      "image/png": "[encoded data removed]",
      "text/plain": [
       "<Figure size 432x288 with 1 Axes>"
      ]
     },
     "metadata": {
      "needs_background": "light"
     },
     "output_type": "display_data"
    }
   ],
   "source": [
    "df['Q5'].value_counts().plot(kind='bar')\n",
    "plt.xlabel(\"Response\")\n",
    "plt.ylabel(\"Person Count\")\n",
    "plt.show()"
   ]
  },
  {
   "cell_type": "code",
   "execution_count": 51,
   "metadata": {},
   "outputs": [
    {
     "name": "stdout",
     "output_type": "stream",
     "text": [
      "Average for people with GPA 3.5 or above:  0.6206896551724138\n",
      "Average for people with GPA below 3.5  0.7391304347826086\n",
      "On average, people with lower GPAs believe that focusing on GPA could hurt relations with others\n"
     ]
    }
   ],
   "source": [
    "print('Average for people with GPA 3.5 or above: ',df[df['GPA'] >= 3.5]['Q5'].mean())\n",
    "print('Average for people with GPA below 3.5 ',df[df['GPA'] < 3.5]['Q5'].mean())\n",
    "print('On average, people with lower GPAs believe that focusing on GPA could hurt relations with others')"
   ]
  },
  {
   "cell_type": "markdown",
   "metadata": {},
   "source": [
    "###### Hypothesis: People with lower GPAs believe that strictly focusing on GPA could hurt your relationships when compared with people with higher GPAs"
   ]
  },
  {
   "cell_type": "code",
   "execution_count": 52,
   "metadata": {},
   "outputs": [
    {
     "name": "stdout",
     "output_type": "stream",
     "text": [
      "Average for Males:  0.6956521739130435\n",
      "Average for Females majors:  0.6296296296296297\n",
      "On average, males believe that focusing on GPA could hurt relations with others\n"
     ]
    }
   ],
   "source": [
    "print('Average for Males: ',df[df['Gender'] == 'Male']['Q5'].mean())\n",
    "print('Average for Females majors: ',df[df['Gender'] == 'Female']['Q5'].mean())\n",
    "print('On average, males believe that focusing on GPA could hurt relations with others')"
   ]
  },
  {
   "cell_type": "markdown",
   "metadata": {},
   "source": [
    "###### Hypothesis: Males believe that strictly focusing on GPA could hurt your relationships when compared with females"
   ]
  },
  {
   "cell_type": "code",
   "execution_count": 53,
   "metadata": {},
   "outputs": [
    {
     "name": "stdout",
     "output_type": "stream",
     "text": [
      "Average for STEM majors:  0.7666666666666667\n",
      "Average for NON-STEM majors:  0.55\n",
      "On average, STEM majors believe that focusing on GPA could hurt relations with others\n"
     ]
    }
   ],
   "source": [
    "print('Average for STEM majors: ',df_stem[df_stem['Major'] == 'STEM']['Q5'].mean())\n",
    "print('Average for NON-STEM majors: ',df_stem[df_stem['Major'] == 'NONSTEM']['Q5'].mean())\n",
    "print('On average, STEM majors believe that focusing on GPA could hurt relations with others')"
   ]
  },
  {
   "cell_type": "markdown",
   "metadata": {},
   "source": [
    "###### Hypothesis: STEM majors believe that strictly focusing on GPA could hurt your relationships when compared with non-STEM majors"
   ]
  },
  {
   "cell_type": "code",
   "execution_count": 54,
   "metadata": {},
   "outputs": [
    {
     "data": {
      "text/html": [
       "<table class=\"simpletable\">\n",
       "<caption>OLS Regression Results</caption>\n",
       "<tr>\n",
       "  <th>Dep. Variable:</th>           <td>Q5</td>        <th>  R-squared:         </th> <td>   0.021</td>\n",
       "</tr>\n",
       "<tr>\n",
       "  <th>Model:</th>                   <td>OLS</td>       <th>  Adj. R-squared:    </th> <td>   0.001</td>\n",
       "</tr>\n",
       "<tr>\n",
       "  <th>Method:</th>             <td>Least Squares</td>  <th>  F-statistic:       </th> <td>   1.061</td>\n",
       "</tr>\n",
       "<tr>\n",
       "  <th>Date:</th>             <td>Mon, 09 Mar 2020</td> <th>  Prob (F-statistic):</th>  <td> 0.308</td> \n",
       "</tr>\n",
       "<tr>\n",
       "  <th>Time:</th>                 <td>01:55:10</td>     <th>  Log-Likelihood:    </th> <td> -74.905</td>\n",
       "</tr>\n",
       "<tr>\n",
       "  <th>No. Observations:</th>      <td>    52</td>      <th>  AIC:               </th> <td>   153.8</td>\n",
       "</tr>\n",
       "<tr>\n",
       "  <th>Df Residuals:</th>          <td>    50</td>      <th>  BIC:               </th> <td>   157.7</td>\n",
       "</tr>\n",
       "<tr>\n",
       "  <th>Df Model:</th>              <td>     1</td>      <th>                     </th>     <td> </td>   \n",
       "</tr>\n",
       "<tr>\n",
       "  <th>Covariance Type:</th>      <td>nonrobust</td>    <th>                     </th>     <td> </td>   \n",
       "</tr>\n",
       "</table>\n",
       "<table class=\"simpletable\">\n",
       "<tr>\n",
       "      <td></td>         <th>coef</th>     <th>std err</th>      <th>t</th>      <th>P>|t|</th>  <th>[0.025</th>    <th>0.975]</th>  \n",
       "</tr>\n",
       "<tr>\n",
       "  <th>Intercept</th> <td>    1.8053</td> <td>    1.109</td> <td>    1.629</td> <td> 0.110</td> <td>   -0.421</td> <td>    4.032</td>\n",
       "</tr>\n",
       "<tr>\n",
       "  <th>GPA</th>       <td>   -0.3275</td> <td>    0.318</td> <td>   -1.030</td> <td> 0.308</td> <td>   -0.966</td> <td>    0.311</td>\n",
       "</tr>\n",
       "</table>\n",
       "<table class=\"simpletable\">\n",
       "<tr>\n",
       "  <th>Omnibus:</th>       <td> 6.236</td> <th>  Durbin-Watson:     </th> <td>   1.779</td>\n",
       "</tr>\n",
       "<tr>\n",
       "  <th>Prob(Omnibus):</th> <td> 0.044</td> <th>  Jarque-Bera (JB):  </th> <td>   2.807</td>\n",
       "</tr>\n",
       "<tr>\n",
       "  <th>Skew:</th>          <td>-0.280</td> <th>  Prob(JB):          </th> <td>   0.246</td>\n",
       "</tr>\n",
       "<tr>\n",
       "  <th>Kurtosis:</th>      <td> 2.009</td> <th>  Cond. No.          </th> <td>    28.9</td>\n",
       "</tr>\n",
       "</table><br/><br/>Warnings:<br/>[1] Standard Errors assume that the covariance matrix of the errors is correctly specified."
      ],
      "text/plain": [
       "<class 'statsmodels.iolib.summary.Summary'>\n",
       "\"\"\"\n",
       "                            OLS Regression Results                            \n",
       "==============================================================================\n",
       "Dep. Variable:                     Q5   R-squared:                       0.021\n",
       "Model:                            OLS   Adj. R-squared:                  0.001\n",
       "Method:                 Least Squares   F-statistic:                     1.061\n",
       "Date:                Mon, 09 Mar 2020   Prob (F-statistic):              0.308\n",
       "Time:                        01:55:10   Log-Likelihood:                -74.905\n",
       "No. Observations:                  52   AIC:                             153.8\n",
       "Df Residuals:                      50   BIC:                             157.7\n",
       "Df Model:                           1                                         \n",
       "Covariance Type:            nonrobust                                         \n",
       "==============================================================================\n",
       "                 coef    std err          t      P>|t|      [0.025      0.975]\n",
       "------------------------------------------------------------------------------\n",
       "Intercept      1.8053      1.109      1.629      0.110      -0.421       4.032\n",
       "GPA           -0.3275      0.318     -1.030      0.308      -0.966       0.311\n",
       "==============================================================================\n",
       "Omnibus:                        6.236   Durbin-Watson:                   1.779\n",
       "Prob(Omnibus):                  0.044   Jarque-Bera (JB):                2.807\n",
       "Skew:                          -0.280   Prob(JB):                        0.246\n",
       "Kurtosis:                       2.009   Cond. No.                         28.9\n",
       "==============================================================================\n",
       "\n",
       "Warnings:\n",
       "[1] Standard Errors assume that the covariance matrix of the errors is correctly specified.\n",
       "\"\"\""
      ]
     },
     "execution_count": 54,
     "metadata": {},
     "output_type": "execute_result"
    }
   ],
   "source": [
    "outcome, predictors = patsy.dmatrices('Q5 ~ GPA',df)\n",
    "mod = sm.OLS(outcome,predictors)\n",
    "res = mod.fit()\n",
    "res.summary()"
   ]
  },
  {
   "cell_type": "code",
   "execution_count": 55,
   "metadata": {},
   "outputs": [
    {
     "data": {
      "text/html": [
       "<table class=\"simpletable\">\n",
       "<caption>OLS Regression Results</caption>\n",
       "<tr>\n",
       "  <th>Dep. Variable:</th>           <td>Q5</td>        <th>  R-squared:         </th> <td>   0.001</td>\n",
       "</tr>\n",
       "<tr>\n",
       "  <th>Model:</th>                   <td>OLS</td>       <th>  Adj. R-squared:    </th> <td>  -0.020</td>\n",
       "</tr>\n",
       "<tr>\n",
       "  <th>Method:</th>             <td>Least Squares</td>  <th>  F-statistic:       </th> <td> 0.04888</td>\n",
       "</tr>\n",
       "<tr>\n",
       "  <th>Date:</th>             <td>Mon, 09 Mar 2020</td> <th>  Prob (F-statistic):</th>  <td> 0.826</td> \n",
       "</tr>\n",
       "<tr>\n",
       "  <th>Time:</th>                 <td>01:55:10</td>     <th>  Log-Likelihood:    </th> <td> -72.482</td>\n",
       "</tr>\n",
       "<tr>\n",
       "  <th>No. Observations:</th>      <td>    50</td>      <th>  AIC:               </th> <td>   149.0</td>\n",
       "</tr>\n",
       "<tr>\n",
       "  <th>Df Residuals:</th>          <td>    48</td>      <th>  BIC:               </th> <td>   152.8</td>\n",
       "</tr>\n",
       "<tr>\n",
       "  <th>Df Model:</th>              <td>     1</td>      <th>                     </th>     <td> </td>   \n",
       "</tr>\n",
       "<tr>\n",
       "  <th>Covariance Type:</th>      <td>nonrobust</td>    <th>                     </th>     <td> </td>   \n",
       "</tr>\n",
       "</table>\n",
       "<table class=\"simpletable\">\n",
       "<tr>\n",
       "         <td></td>           <th>coef</th>     <th>std err</th>      <th>t</th>      <th>P>|t|</th>  <th>[0.025</th>    <th>0.975]</th>  \n",
       "</tr>\n",
       "<tr>\n",
       "  <th>Intercept</th>      <td>    0.6296</td> <td>    0.203</td> <td>    3.109</td> <td> 0.003</td> <td>    0.222</td> <td>    1.037</td>\n",
       "</tr>\n",
       "<tr>\n",
       "  <th>Gender[T.Male]</th> <td>    0.0660</td> <td>    0.299</td> <td>    0.221</td> <td> 0.826</td> <td>   -0.534</td> <td>    0.666</td>\n",
       "</tr>\n",
       "</table>\n",
       "<table class=\"simpletable\">\n",
       "<tr>\n",
       "  <th>Omnibus:</th>       <td> 6.500</td> <th>  Durbin-Watson:     </th> <td>   1.878</td>\n",
       "</tr>\n",
       "<tr>\n",
       "  <th>Prob(Omnibus):</th> <td> 0.039</td> <th>  Jarque-Bera (JB):  </th> <td>   3.172</td>\n",
       "</tr>\n",
       "<tr>\n",
       "  <th>Skew:</th>          <td>-0.366</td> <th>  Prob(JB):          </th> <td>   0.205</td>\n",
       "</tr>\n",
       "<tr>\n",
       "  <th>Kurtosis:</th>      <td> 2.006</td> <th>  Cond. No.          </th> <td>    2.53</td>\n",
       "</tr>\n",
       "</table><br/><br/>Warnings:<br/>[1] Standard Errors assume that the covariance matrix of the errors is correctly specified."
      ],
      "text/plain": [
       "<class 'statsmodels.iolib.summary.Summary'>\n",
       "\"\"\"\n",
       "                            OLS Regression Results                            \n",
       "==============================================================================\n",
       "Dep. Variable:                     Q5   R-squared:                       0.001\n",
       "Model:                            OLS   Adj. R-squared:                 -0.020\n",
       "Method:                 Least Squares   F-statistic:                   0.04888\n",
       "Date:                Mon, 09 Mar 2020   Prob (F-statistic):              0.826\n",
       "Time:                        01:55:10   Log-Likelihood:                -72.482\n",
       "No. Observations:                  50   AIC:                             149.0\n",
       "Df Residuals:                      48   BIC:                             152.8\n",
       "Df Model:                           1                                         \n",
       "Covariance Type:            nonrobust                                         \n",
       "==================================================================================\n",
       "                     coef    std err          t      P>|t|      [0.025      0.975]\n",
       "----------------------------------------------------------------------------------\n",
       "Intercept          0.6296      0.203      3.109      0.003       0.222       1.037\n",
       "Gender[T.Male]     0.0660      0.299      0.221      0.826      -0.534       0.666\n",
       "==============================================================================\n",
       "Omnibus:                        6.500   Durbin-Watson:                   1.878\n",
       "Prob(Omnibus):                  0.039   Jarque-Bera (JB):                3.172\n",
       "Skew:                          -0.366   Prob(JB):                        0.205\n",
       "Kurtosis:                       2.006   Cond. No.                         2.53\n",
       "==============================================================================\n",
       "\n",
       "Warnings:\n",
       "[1] Standard Errors assume that the covariance matrix of the errors is correctly specified.\n",
       "\"\"\""
      ]
     },
     "execution_count": 55,
     "metadata": {},
     "output_type": "execute_result"
    }
   ],
   "source": [
    "outcome, predictors = patsy.dmatrices('Q5 ~ Gender',df_gender)\n",
    "mod = sm.OLS(outcome,predictors)\n",
    "res = mod.fit()\n",
    "res.summary()"
   ]
  },
  {
   "cell_type": "code",
   "execution_count": 56,
   "metadata": {},
   "outputs": [
    {
     "data": {
      "text/html": [
       "<table class=\"simpletable\">\n",
       "<caption>OLS Regression Results</caption>\n",
       "<tr>\n",
       "  <th>Dep. Variable:</th>           <td>Q5</td>        <th>  R-squared:         </th> <td>   0.010</td>\n",
       "</tr>\n",
       "<tr>\n",
       "  <th>Model:</th>                   <td>OLS</td>       <th>  Adj. R-squared:    </th> <td>  -0.010</td>\n",
       "</tr>\n",
       "<tr>\n",
       "  <th>Method:</th>             <td>Least Squares</td>  <th>  F-statistic:       </th> <td>  0.4978</td>\n",
       "</tr>\n",
       "<tr>\n",
       "  <th>Date:</th>             <td>Mon, 09 Mar 2020</td> <th>  Prob (F-statistic):</th>  <td> 0.484</td> \n",
       "</tr>\n",
       "<tr>\n",
       "  <th>Time:</th>                 <td>01:55:10</td>     <th>  Log-Likelihood:    </th> <td> -73.017</td>\n",
       "</tr>\n",
       "<tr>\n",
       "  <th>No. Observations:</th>      <td>    50</td>      <th>  AIC:               </th> <td>   150.0</td>\n",
       "</tr>\n",
       "<tr>\n",
       "  <th>Df Residuals:</th>          <td>    48</td>      <th>  BIC:               </th> <td>   153.9</td>\n",
       "</tr>\n",
       "<tr>\n",
       "  <th>Df Model:</th>              <td>     1</td>      <th>                     </th>     <td> </td>   \n",
       "</tr>\n",
       "<tr>\n",
       "  <th>Covariance Type:</th>      <td>nonrobust</td>    <th>                     </th>     <td> </td>   \n",
       "</tr>\n",
       "</table>\n",
       "<table class=\"simpletable\">\n",
       "<tr>\n",
       "        <td></td>           <th>coef</th>     <th>std err</th>      <th>t</th>      <th>P>|t|</th>  <th>[0.025</th>    <th>0.975]</th>  \n",
       "</tr>\n",
       "<tr>\n",
       "  <th>Intercept</th>     <td>    0.5500</td> <td>    0.238</td> <td>    2.312</td> <td> 0.025</td> <td>    0.072</td> <td>    1.028</td>\n",
       "</tr>\n",
       "<tr>\n",
       "  <th>Major[T.STEM]</th> <td>    0.2167</td> <td>    0.307</td> <td>    0.706</td> <td> 0.484</td> <td>   -0.401</td> <td>    0.834</td>\n",
       "</tr>\n",
       "</table>\n",
       "<table class=\"simpletable\">\n",
       "<tr>\n",
       "  <th>Omnibus:</th>       <td> 6.277</td> <th>  Durbin-Watson:     </th> <td>   1.847</td>\n",
       "</tr>\n",
       "<tr>\n",
       "  <th>Prob(Omnibus):</th> <td> 0.043</td> <th>  Jarque-Bera (JB):  </th> <td>   3.253</td>\n",
       "</tr>\n",
       "<tr>\n",
       "  <th>Skew:</th>          <td>-0.391</td> <th>  Prob(JB):          </th> <td>   0.197</td>\n",
       "</tr>\n",
       "<tr>\n",
       "  <th>Kurtosis:</th>      <td> 2.026</td> <th>  Cond. No.          </th> <td>    2.92</td>\n",
       "</tr>\n",
       "</table><br/><br/>Warnings:<br/>[1] Standard Errors assume that the covariance matrix of the errors is correctly specified."
      ],
      "text/plain": [
       "<class 'statsmodels.iolib.summary.Summary'>\n",
       "\"\"\"\n",
       "                            OLS Regression Results                            \n",
       "==============================================================================\n",
       "Dep. Variable:                     Q5   R-squared:                       0.010\n",
       "Model:                            OLS   Adj. R-squared:                 -0.010\n",
       "Method:                 Least Squares   F-statistic:                    0.4978\n",
       "Date:                Mon, 09 Mar 2020   Prob (F-statistic):              0.484\n",
       "Time:                        01:55:10   Log-Likelihood:                -73.017\n",
       "No. Observations:                  50   AIC:                             150.0\n",
       "Df Residuals:                      48   BIC:                             153.9\n",
       "Df Model:                           1                                         \n",
       "Covariance Type:            nonrobust                                         \n",
       "=================================================================================\n",
       "                    coef    std err          t      P>|t|      [0.025      0.975]\n",
       "---------------------------------------------------------------------------------\n",
       "Intercept         0.5500      0.238      2.312      0.025       0.072       1.028\n",
       "Major[T.STEM]     0.2167      0.307      0.706      0.484      -0.401       0.834\n",
       "==============================================================================\n",
       "Omnibus:                        6.277   Durbin-Watson:                   1.847\n",
       "Prob(Omnibus):                  0.043   Jarque-Bera (JB):                3.253\n",
       "Skew:                          -0.391   Prob(JB):                        0.197\n",
       "Kurtosis:                       2.026   Cond. No.                         2.92\n",
       "==============================================================================\n",
       "\n",
       "Warnings:\n",
       "[1] Standard Errors assume that the covariance matrix of the errors is correctly specified.\n",
       "\"\"\""
      ]
     },
     "execution_count": 56,
     "metadata": {},
     "output_type": "execute_result"
    }
   ],
   "source": [
    "outcome, predictors = patsy.dmatrices('Q5 ~ Major',df_stem)\n",
    "mod = sm.OLS(outcome,predictors)\n",
    "res = mod.fit()\n",
    "res.summary()"
   ]
  },
  {
   "cell_type": "code",
   "execution_count": 57,
   "metadata": {},
   "outputs": [
    {
     "data": {
      "text/html": [
       "<table class=\"simpletable\">\n",
       "<caption>OLS Regression Results</caption>\n",
       "<tr>\n",
       "  <th>Dep. Variable:</th>           <td>Q5</td>        <th>  R-squared:         </th> <td>   0.015</td>\n",
       "</tr>\n",
       "<tr>\n",
       "  <th>Model:</th>                   <td>OLS</td>       <th>  Adj. R-squared:    </th> <td>  -0.052</td>\n",
       "</tr>\n",
       "<tr>\n",
       "  <th>Method:</th>             <td>Least Squares</td>  <th>  F-statistic:       </th> <td>  0.2235</td>\n",
       "</tr>\n",
       "<tr>\n",
       "  <th>Date:</th>             <td>Mon, 09 Mar 2020</td> <th>  Prob (F-statistic):</th>  <td> 0.880</td> \n",
       "</tr>\n",
       "<tr>\n",
       "  <th>Time:</th>                 <td>01:55:10</td>     <th>  Log-Likelihood:    </th> <td> -69.973</td>\n",
       "</tr>\n",
       "<tr>\n",
       "  <th>No. Observations:</th>      <td>    48</td>      <th>  AIC:               </th> <td>   147.9</td>\n",
       "</tr>\n",
       "<tr>\n",
       "  <th>Df Residuals:</th>          <td>    44</td>      <th>  BIC:               </th> <td>   155.4</td>\n",
       "</tr>\n",
       "<tr>\n",
       "  <th>Df Model:</th>              <td>     3</td>      <th>                     </th>     <td> </td>   \n",
       "</tr>\n",
       "<tr>\n",
       "  <th>Covariance Type:</th>      <td>nonrobust</td>    <th>                     </th>     <td> </td>   \n",
       "</tr>\n",
       "</table>\n",
       "<table class=\"simpletable\">\n",
       "<tr>\n",
       "         <td></td>           <th>coef</th>     <th>std err</th>      <th>t</th>      <th>P>|t|</th>  <th>[0.025</th>    <th>0.975]</th>  \n",
       "</tr>\n",
       "<tr>\n",
       "  <th>Intercept</th>      <td>    0.4679</td> <td>    0.297</td> <td>    1.575</td> <td> 0.122</td> <td>   -0.131</td> <td>    1.067</td>\n",
       "</tr>\n",
       "<tr>\n",
       "  <th>GPA[T.LOW]</th>     <td>    0.1442</td> <td>    0.326</td> <td>    0.442</td> <td> 0.661</td> <td>   -0.513</td> <td>    0.801</td>\n",
       "</tr>\n",
       "<tr>\n",
       "  <th>Major[T.STEM]</th>  <td>    0.1919</td> <td>    0.319</td> <td>    0.602</td> <td> 0.550</td> <td>   -0.451</td> <td>    0.834</td>\n",
       "</tr>\n",
       "<tr>\n",
       "  <th>Gender[T.Male]</th> <td>    0.0544</td> <td>    0.326</td> <td>    0.167</td> <td> 0.868</td> <td>   -0.602</td> <td>    0.710</td>\n",
       "</tr>\n",
       "</table>\n",
       "<table class=\"simpletable\">\n",
       "<tr>\n",
       "  <th>Omnibus:</th>       <td> 5.329</td> <th>  Durbin-Watson:     </th> <td>   1.891</td>\n",
       "</tr>\n",
       "<tr>\n",
       "  <th>Prob(Omnibus):</th> <td> 0.070</td> <th>  Jarque-Bera (JB):  </th> <td>   2.814</td>\n",
       "</tr>\n",
       "<tr>\n",
       "  <th>Skew:</th>          <td>-0.352</td> <th>  Prob(JB):          </th> <td>   0.245</td>\n",
       "</tr>\n",
       "<tr>\n",
       "  <th>Kurtosis:</th>      <td> 2.046</td> <th>  Cond. No.          </th> <td>    3.55</td>\n",
       "</tr>\n",
       "</table><br/><br/>Warnings:<br/>[1] Standard Errors assume that the covariance matrix of the errors is correctly specified."
      ],
      "text/plain": [
       "<class 'statsmodels.iolib.summary.Summary'>\n",
       "\"\"\"\n",
       "                            OLS Regression Results                            \n",
       "==============================================================================\n",
       "Dep. Variable:                     Q5   R-squared:                       0.015\n",
       "Model:                            OLS   Adj. R-squared:                 -0.052\n",
       "Method:                 Least Squares   F-statistic:                    0.2235\n",
       "Date:                Mon, 09 Mar 2020   Prob (F-statistic):              0.880\n",
       "Time:                        01:55:10   Log-Likelihood:                -69.973\n",
       "No. Observations:                  48   AIC:                             147.9\n",
       "Df Residuals:                      44   BIC:                             155.4\n",
       "Df Model:                           3                                         \n",
       "Covariance Type:            nonrobust                                         \n",
       "==================================================================================\n",
       "                     coef    std err          t      P>|t|      [0.025      0.975]\n",
       "----------------------------------------------------------------------------------\n",
       "Intercept          0.4679      0.297      1.575      0.122      -0.131       1.067\n",
       "GPA[T.LOW]         0.1442      0.326      0.442      0.661      -0.513       0.801\n",
       "Major[T.STEM]      0.1919      0.319      0.602      0.550      -0.451       0.834\n",
       "Gender[T.Male]     0.0544      0.326      0.167      0.868      -0.602       0.710\n",
       "==============================================================================\n",
       "Omnibus:                        5.329   Durbin-Watson:                   1.891\n",
       "Prob(Omnibus):                  0.070   Jarque-Bera (JB):                2.814\n",
       "Skew:                          -0.352   Prob(JB):                        0.245\n",
       "Kurtosis:                       2.046   Cond. No.                         3.55\n",
       "==============================================================================\n",
       "\n",
       "Warnings:\n",
       "[1] Standard Errors assume that the covariance matrix of the errors is correctly specified.\n",
       "\"\"\""
      ]
     },
     "execution_count": 57,
     "metadata": {},
     "output_type": "execute_result"
    }
   ],
   "source": [
    "outcome, predictors = patsy.dmatrices('Q5 ~ GPA + Major + Gender',df_all)\n",
    "mod = sm.OLS(outcome,predictors)\n",
    "res = mod.fit()\n",
    "res.summary()"
   ]
  },
  {
   "cell_type": "markdown",
   "metadata": {},
   "source": [
    "###### Overall, you can see that from the data, the best predictor for the question that asks whether focusing on GPA could hurt your relationships with others, is major when compared to GPA and gender. The p-values do not support any of the hypotheses, though."
   ]
  }
 ],
 "metadata": {
  "kernelspec": {
   "display_name": "Python 3",
   "language": "python",
   "name": "python3"
  },
  "language_info": {
   "codemirror_mode": {
    "name": "ipython",
    "version": 3
   },
   "file_extension": ".py",
   "mimetype": "text/x-python",
   "name": "python",
   "nbconvert_exporter": "python",
   "pygments_lexer": "ipython3",
   "version": "3.7.3"
  }
 },
 "nbformat": 4,
 "nbformat_minor": 2
}
